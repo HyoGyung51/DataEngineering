{
 "cells": [
  {
   "cell_type": "code",
   "execution_count": 13,
   "id": "fcb7fb3e-2e90-42d7-9fe9-a5188fb46983",
   "metadata": {},
   "outputs": [],
   "source": [
    "# 스타일리스트, 가격, 지난주 헤어스타일 구매 건수에 대한 리스트 만들기\n",
    "hairstyles = [\"bouffant\", \"pixie\", \"dreadlocks\", \"crew\", \"bowl\", \"bob\", \"mohawk\", \"flattop\"]\n",
    "prices = [30, 25, 40, 20, 20, 35, 50, 35]\n",
    "last_week = [2, 3, 5, 8, 4, 4, 6, 2]"
   ]
  },
  {
   "cell_type": "code",
   "execution_count": 15,
   "id": "26ad08e3-1fc4-4f3e-942d-aebe0f19988f",
   "metadata": {},
   "outputs": [
    {
     "name": "stdout",
     "output_type": "stream",
     "text": [
      "Average price is  31.875\n"
     ]
    }
   ],
   "source": [
    "\"\"\"\n",
    "Prices and Cuts\n",
    "\"\"\"\n",
    "total_price = 0\n",
    "for i in range(len(prices)):\n",
    "    total_price += prices[i]\n",
    "# 선언 후 0으로 초기화한 total_price에 prices 내의 요소들을 하나씩 더하는 for문\n",
    "# print(total_price)\n",
    "\n",
    "average_price = total_price / len(prices)\n",
    "print(\"Average price is \", average_price)\n",
    "# 평균 = 총합/갯수"
   ]
  },
  {
   "cell_type": "code",
   "execution_count": 16,
   "id": "37324433-2b0a-4f70-8153-14f9d2eda7d5",
   "metadata": {},
   "outputs": [
    {
     "name": "stdout",
     "output_type": "stream",
     "text": [
      "[25, 20, 35, 15, 15, 30, 45, 30]\n"
     ]
    }
   ],
   "source": [
    "new_prices = [price -5 for price in  prices]\n",
    "# 리스트컴프리헨션을 이용해 prices의 각 요소들에 -5 해준 값을 구함\n",
    "print(new_prices)"
   ]
  },
  {
   "cell_type": "code",
   "execution_count": 17,
   "id": "e4347c93-9caf-4be1-b382-bbcdcd3e52a1",
   "metadata": {},
   "outputs": [
    {
     "name": "stdout",
     "output_type": "stream",
     "text": [
      "Average daily revenue is  155.0\n"
     ]
    }
   ],
   "source": [
    "\"\"\"\n",
    "Revenue\n",
    "\"\"\"\n",
    "\n",
    "# 지난주 수입을 알아보기 위해 변수를 만들고 0으로 초기화\n",
    "total_revenue = 0\n",
    "for i in range(len(hairstyles)):\n",
    "    total_revenue += (prices[i]*last_week[i])\n",
    "    # prices 리스트의 각 요소와 last_week 리스트의 각 요소들을 곱하고\n",
    "    # 그것을 total_revenue에 하나씩 더해줌\n",
    "# print(total_revenue)\n",
    "\n",
    "# 지난주 평균 수입 구하기\n",
    "average_daily_revenue = total_revenue / 7\n",
    "print(\"Average daily revenue is \", average_daily_revenue)"
   ]
  },
  {
   "cell_type": "code",
   "execution_count": 20,
   "id": "3c8986dc-c5dd-4216-9d82-ffa4f5bc7b73",
   "metadata": {},
   "outputs": [
    {
     "name": "stdout",
     "output_type": "stream",
     "text": [
      "['bouffant', 'pixie', 'crew', 'bowl']\n"
     ]
    }
   ],
   "source": [
    "# 30달러 이하인 커트로 홍보\n",
    "cuts_under_30 = [hairstyles[i] for i in range(len(new_prices)-1) if new_prices[i] < 30 ]\n",
    "# hairsyles 중에 new price가 30달러보다 적은 hairstyles를 cuts_under_30 리스트에 넣어주는 리스트컴프리헨션\n",
    "print(cuts_under_30)"
   ]
  }
 ],
 "metadata": {
  "kernelspec": {
   "display_name": "Python 3",
   "language": "python",
   "name": "python3"
  },
  "language_info": {
   "codemirror_mode": {
    "name": "ipython",
    "version": 3
   },
   "file_extension": ".py",
   "mimetype": "text/x-python",
   "name": "python",
   "nbconvert_exporter": "python",
   "pygments_lexer": "ipython3",
   "version": "3.8.8"
  }
 },
 "nbformat": 4,
 "nbformat_minor": 5
}
