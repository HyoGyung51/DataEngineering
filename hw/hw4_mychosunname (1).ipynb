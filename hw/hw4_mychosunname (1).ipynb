{
 "cells": [
  {
   "cell_type": "code",
   "execution_count": 12,
   "id": "80549d14-00bd-414f-bc8b-5a95cd114265",
   "metadata": {},
   "outputs": [],
   "source": [
    "# 조선시대 이름 구하는 함수 만들기\n",
    "def get_my_chosun_name(family_name, month, day): # 성, 달, 일을 매개변수로 받는 함수\n",
    "    chosun_m = month_name[int(month)-1] \n",
    "    # 조선시대 버전으로 바꾼 글자를 저장할 변수를 chosun_m으로 설정하고\n",
    "    #이름을 구하기 위한 리스트 month_name 내에서 해당 요소의 위치를 찾아가기 위해 입력한 달을 정수로 받아 -1(zero인덱스이기 때문)을 해준다\n",
    "    chosun_d = day_name[int(day)-1]\n",
    "    # 조선시대 버전으로 바꾼 글자를 저장할 변수를 chosun_d로 설정하고\n",
    "    #이름을 구하기 위한 리스트 day_name 내에서 해당 요소의 위치를 찾아가기 위해 입력한 일을 정수로 받아 -1(zero인덱스이기 때문)을 해준다\n",
    "    print(family_name, chosun_m, chosun_d) # 모두 한 번에 출력해준다"
   ]
  },
  {
   "cell_type": "code",
   "execution_count": 13,
   "id": "428e18e9-967a-4404-9a58-376ca2ce25e9",
   "metadata": {},
   "outputs": [
    {
     "name": "stdout",
     "output_type": "stream",
     "text": [
      "['쌍', '쇠', '복', '돌', '팽', '육', '쌍', '개', '칠', '갑', '삼', '방']\n",
      "['봉', '구', '욕', '포', '똥', '삼', '식', '석', '놈', '님', '년', '돌', '단', '득', '방', '질', '장', '걸', '래', '룡', '동', '순', '자', '박', '창', '언', '것', '포', '만', '단', '국']\n"
     ]
    }
   ],
   "source": [
    "month_name = ['쌍', '쇠', '복', '돌', '팽', '육', '쌍', '개', '칠', '갑', '삼', '방']\n",
    "day_name = ['봉', '구', '욕', '포', '똥', '삼', '식', '석', '놈', '님', '년', '돌', '단', '득', '방', '질', '장', '걸', '래', '룡', '동', '순', '자', '박', '창', '언', '것', '포', '만', '단', '국']\n",
    "print(month_name)\n",
    "print(day_name)"
   ]
  },
  {
   "cell_type": "code",
   "execution_count": 14,
   "id": "5e05b283-1279-460d-a789-331b0666eb76",
   "metadata": {},
   "outputs": [
    {
     "name": "stdout",
     "output_type": "stream",
     "text": [
      "김 팽 봉\n"
     ]
    }
   ],
   "source": [
    "get_my_chosun_name('김',5,1)"
   ]
  },
  {
   "cell_type": "code",
   "execution_count": null,
   "id": "5537e479-f73b-415f-bb64-0cdd3dbd641f",
   "metadata": {},
   "outputs": [],
   "source": []
  },
  {
   "cell_type": "code",
   "execution_count": null,
   "id": "7690d152-c2b3-4320-90c3-bf7b3b2a196f",
   "metadata": {},
   "outputs": [],
   "source": []
  },
  {
   "cell_type": "code",
   "execution_count": null,
   "id": "8693d42e-9f84-4602-926c-18c66ed19dba",
   "metadata": {},
   "outputs": [],
   "source": []
  },
  {
   "cell_type": "code",
   "execution_count": null,
   "id": "099260b5-9726-4516-bfd0-5ac0aeab5df4",
   "metadata": {},
   "outputs": [],
   "source": []
  },
  {
   "cell_type": "code",
   "execution_count": 10,
   "id": "7ca213eb-7209-41cb-bf98-8cc1415ad197",
   "metadata": {},
   "outputs": [
    {
     "name": "stdin",
     "output_type": "stream",
     "text": [
      "성을 입력하시오: 김\n",
      "태어난 달을 입력하시오: 5\n",
      "태어난 날을 입력하시오: 1\n"
     ]
    },
    {
     "name": "stdout",
     "output_type": "stream",
     "text": [
      "당신의 조선시대 이름은  김 팽 봉 입니다\n"
     ]
    }
   ],
   "source": [
    "def get_my_chosun_name():\n",
    "    month_name = ['쌍', '쇠', '복', '돌', '팽', '육', '쌍', '개', '칠', '갑', '삼', '방']\n",
    "    day_name = ['봉', '구', '욕', '포', '똥', '삼', '식', '석', '놈', '님', '년', '돌', '단', '득', '방', '질', '장', '걸', '래', '룡', '동', '순', '자', '박', '창', '언', '것', '포', '만', '단', '국']\n",
    "    family_name = input(\"성을 입력하시오:\")\n",
    "    month = int(input(\"태어난 달을 입력하시오:\"))\n",
    "    day = int(input(\"태어난 날을 입력하시오:\"))\n",
    "    print(\"당신의 조선시대 이름은 \",family_name, month_name[month-1], day_name[day-1],\"입니다\")\n",
    "    \n",
    "get_my_chosun_name()"
   ]
  }
 ],
 "metadata": {
  "kernelspec": {
   "display_name": "Python 3",
   "language": "python",
   "name": "python3"
  },
  "language_info": {
   "codemirror_mode": {
    "name": "ipython",
    "version": 3
   },
   "file_extension": ".py",
   "mimetype": "text/x-python",
   "name": "python",
   "nbconvert_exporter": "python",
   "pygments_lexer": "ipython3",
   "version": "3.8.8"
  }
 },
 "nbformat": 4,
 "nbformat_minor": 5
}
