{
 "cells": [
  {
   "cell_type": "code",
   "execution_count": 1,
   "id": "f8ea4ccf-bbef-47d7-9e60-48e19c76643d",
   "metadata": {},
   "outputs": [
    {
     "name": "stderr",
     "output_type": "stream",
     "text": [
      "<ipython-input-1-0c95b2fc7292>:3: FutureWarning: The pandas.datetime class is deprecated and will be removed from pandas in a future version. Import from datetime module instead.\n",
      "  from pandas import datetime\n"
     ]
    }
   ],
   "source": [
    "import pandas as pd\n",
    "import numpy as np\n",
    "from pandas import datetime\n",
    "from matplotlib import pyplot as plt"
   ]
  },
  {
   "cell_type": "code",
   "execution_count": 2,
   "id": "ce037939-d25a-4186-8633-fd0a4eace101",
   "metadata": {},
   "outputs": [
    {
     "data": {
      "text/html": [
       "<div>\n",
       "<style scoped>\n",
       "    .dataframe tbody tr th:only-of-type {\n",
       "        vertical-align: middle;\n",
       "    }\n",
       "\n",
       "    .dataframe tbody tr th {\n",
       "        vertical-align: top;\n",
       "    }\n",
       "\n",
       "    .dataframe thead th {\n",
       "        text-align: right;\n",
       "    }\n",
       "</style>\n",
       "<table border=\"1\" class=\"dataframe\">\n",
       "  <thead>\n",
       "    <tr style=\"text-align: right;\">\n",
       "      <th></th>\n",
       "      <th>CO(GT)</th>\n",
       "      <th>PT08.S1(CO)</th>\n",
       "      <th>PT08.S2(NMHC)</th>\n",
       "      <th>NOx(GT)</th>\n",
       "      <th>PT08.S3(NOx)</th>\n",
       "      <th>NO2(GT)</th>\n",
       "      <th>PT08.S4(NO2)</th>\n",
       "      <th>PT08.S5(O3)</th>\n",
       "      <th>RH</th>\n",
       "      <th>AH</th>\n",
       "      <th>C6H6(GT)</th>\n",
       "    </tr>\n",
       "    <tr>\n",
       "      <th>Datetime</th>\n",
       "      <th></th>\n",
       "      <th></th>\n",
       "      <th></th>\n",
       "      <th></th>\n",
       "      <th></th>\n",
       "      <th></th>\n",
       "      <th></th>\n",
       "      <th></th>\n",
       "      <th></th>\n",
       "      <th></th>\n",
       "      <th></th>\n",
       "    </tr>\n",
       "  </thead>\n",
       "  <tbody>\n",
       "    <tr>\n",
       "      <th>2004-03-10 18:00:00</th>\n",
       "      <td>2.6</td>\n",
       "      <td>1360.0</td>\n",
       "      <td>1046.0</td>\n",
       "      <td>166.0</td>\n",
       "      <td>1056.0</td>\n",
       "      <td>113.0</td>\n",
       "      <td>1692.0</td>\n",
       "      <td>1268.0</td>\n",
       "      <td>48.9</td>\n",
       "      <td>0.7578</td>\n",
       "      <td>11.9</td>\n",
       "    </tr>\n",
       "    <tr>\n",
       "      <th>2004-03-10 19:00:00</th>\n",
       "      <td>2.0</td>\n",
       "      <td>1292.0</td>\n",
       "      <td>955.0</td>\n",
       "      <td>103.0</td>\n",
       "      <td>1174.0</td>\n",
       "      <td>92.0</td>\n",
       "      <td>1559.0</td>\n",
       "      <td>972.0</td>\n",
       "      <td>47.7</td>\n",
       "      <td>0.7255</td>\n",
       "      <td>9.4</td>\n",
       "    </tr>\n",
       "    <tr>\n",
       "      <th>2004-03-10 20:00:00</th>\n",
       "      <td>2.2</td>\n",
       "      <td>1402.0</td>\n",
       "      <td>939.0</td>\n",
       "      <td>131.0</td>\n",
       "      <td>1140.0</td>\n",
       "      <td>114.0</td>\n",
       "      <td>1555.0</td>\n",
       "      <td>1074.0</td>\n",
       "      <td>54.0</td>\n",
       "      <td>0.7502</td>\n",
       "      <td>9.0</td>\n",
       "    </tr>\n",
       "    <tr>\n",
       "      <th>2004-03-10 21:00:00</th>\n",
       "      <td>2.2</td>\n",
       "      <td>1376.0</td>\n",
       "      <td>948.0</td>\n",
       "      <td>172.0</td>\n",
       "      <td>1092.0</td>\n",
       "      <td>122.0</td>\n",
       "      <td>1584.0</td>\n",
       "      <td>1203.0</td>\n",
       "      <td>60.0</td>\n",
       "      <td>0.7867</td>\n",
       "      <td>9.2</td>\n",
       "    </tr>\n",
       "    <tr>\n",
       "      <th>2004-03-10 22:00:00</th>\n",
       "      <td>1.6</td>\n",
       "      <td>1272.0</td>\n",
       "      <td>836.0</td>\n",
       "      <td>131.0</td>\n",
       "      <td>1205.0</td>\n",
       "      <td>116.0</td>\n",
       "      <td>1490.0</td>\n",
       "      <td>1110.0</td>\n",
       "      <td>59.6</td>\n",
       "      <td>0.7888</td>\n",
       "      <td>6.5</td>\n",
       "    </tr>\n",
       "  </tbody>\n",
       "</table>\n",
       "</div>"
      ],
      "text/plain": [
       "                     CO(GT)  PT08.S1(CO)  PT08.S2(NMHC)  NOx(GT)  \\\n",
       "Datetime                                                           \n",
       "2004-03-10 18:00:00     2.6       1360.0         1046.0    166.0   \n",
       "2004-03-10 19:00:00     2.0       1292.0          955.0    103.0   \n",
       "2004-03-10 20:00:00     2.2       1402.0          939.0    131.0   \n",
       "2004-03-10 21:00:00     2.2       1376.0          948.0    172.0   \n",
       "2004-03-10 22:00:00     1.6       1272.0          836.0    131.0   \n",
       "\n",
       "                     PT08.S3(NOx)  NO2(GT)  PT08.S4(NO2)  PT08.S5(O3)    RH  \\\n",
       "Datetime                                                                      \n",
       "2004-03-10 18:00:00        1056.0    113.0        1692.0       1268.0  48.9   \n",
       "2004-03-10 19:00:00        1174.0     92.0        1559.0        972.0  47.7   \n",
       "2004-03-10 20:00:00        1140.0    114.0        1555.0       1074.0  54.0   \n",
       "2004-03-10 21:00:00        1092.0    122.0        1584.0       1203.0  60.0   \n",
       "2004-03-10 22:00:00        1205.0    116.0        1490.0       1110.0  59.6   \n",
       "\n",
       "                         AH  C6H6(GT)  \n",
       "Datetime                               \n",
       "2004-03-10 18:00:00  0.7578      11.9  \n",
       "2004-03-10 19:00:00  0.7255       9.4  \n",
       "2004-03-10 20:00:00  0.7502       9.0  \n",
       "2004-03-10 21:00:00  0.7867       9.2  \n",
       "2004-03-10 22:00:00  0.7888       6.5  "
      ]
     },
     "execution_count": 2,
     "metadata": {},
     "output_type": "execute_result"
    }
   ],
   "source": [
    "\"\"\"\n",
    "Load AirQualityUCI Data\n",
    "\"\"\"\n",
    "\n",
    "def parser(x):\n",
    "    return datetime.strptime(x, '%Y-%m-%d %H:%M:%S')\n",
    "\n",
    "input_file = './data/AirQualityUCI_refined.csv'\n",
    "\n",
    "df = pd.read_csv(input_file,\n",
    "                 index_col=[0],\n",
    "                 parse_dates=[0],\n",
    "                 date_parser=parser)\n",
    "\n",
    "df.head()"
   ]
  },
  {
   "cell_type": "code",
   "execution_count": 3,
   "id": "7c02b3a0-dd99-42ab-8ef9-6aa8579e38e1",
   "metadata": {},
   "outputs": [
    {
     "name": "stdout",
     "output_type": "stream",
     "text": [
      "Using matplotlib backend: Qt5Agg\n"
     ]
    }
   ],
   "source": [
    "# Visualization setup\n",
    "%matplotlib\n",
    "%config InlineBackend.figure_format = 'svg'\n",
    "\n",
    "from matplotlib import pyplot as plt\n",
    "plt.rcParams['figure.figsize'] = [10, 5]\n",
    "plt.ion() # enable the interactive mode\n",
    "\n",
    "import seaborn as sns\n",
    "sns.set()  # set plot styles"
   ]
  },
  {
   "cell_type": "code",
   "execution_count": 4,
   "id": "4e1af413-08bc-469a-8209-2cddcd1e3c67",
   "metadata": {},
   "outputs": [],
   "source": [
    "# Visualize the 'CO(GT)' column\n",
    "df['CO(GT)'].interpolate(inplace=True) \n",
    "# inplace -> dataframe 원본에 덮어쓰기\n",
    "\n",
    "# 원본 건들기 싫으면\n",
    "\"\"\"\n",
    "co = df['CO(GT)'].copy()\n",
    "co.interpolate(inplace=True)\n",
    "# co객체의 결측치들을 메꾼 다음 그 결과를 그대로 co에 덮어쓰기\n",
    "\"\"\"\n",
    "# bining 수행하기 위해 interpolation\n",
    "\"\"\"\n",
    "시계열에서 결측치는 거의 허용되지 않음\n",
    "만약 일반 설문조사에서 1~10번 중 7번 문항 응답 안 했다(결측데이터)고 해서 뒤에 있을 8,9,10번 문제에 영향을 주는 경우는 거의 없다\n",
    "시계열이 아닌 데이터는 결측치가 발생해도 영향을 주는 경우는 거의 없다\n",
    "시계열은 그 자체로 과거 데이터와 미래 데이터 간 의존성을 가지고 있어 중간에 결측치가 생길 경우 무시하기가 어렵다(퍼포먼스 나빠짐)\n",
    "결측치는 어떻게든 메꿔서 \n",
    "\"\"\""
   ]
  },
  {
   "cell_type": "code",
   "execution_count": 5,
   "id": "d625868d-fee4-47b1-950c-16d9211814ed",
   "metadata": {},
   "outputs": [
    {
     "name": "stdout",
     "output_type": "stream",
     "text": [
      "11.9 0.0\n"
     ]
    }
   ],
   "source": [
    "\"\"\"\n",
    "Binning\n",
    "\"\"\"\n",
    "\n",
    "# 구간을 나누기 위해 최대,최소값 이용(범위를 몇개의 구간으로 나눌지 정할 수 있다)\n",
    "max_val = df['CO(GT)'].max()\n",
    "min_val = df['CO(GT)'].min()\n",
    "print(max_val, min_val)"
   ]
  },
  {
   "cell_type": "code",
   "execution_count": 6,
   "id": "2b3e8596-0d62-4cf5-a868-ece1fd4c3c70",
   "metadata": {},
   "outputs": [
    {
     "data": {
      "text/plain": [
       "array([ 0.  ,  2.38,  4.76,  7.14,  9.52, 11.9 ])"
      ]
     },
     "execution_count": 6,
     "metadata": {},
     "output_type": "execute_result"
    }
   ],
   "source": [
    "# Make interval values\n",
    "# 인터벌 값 max와 min 사이 간격 나누기\n",
    "bins = np.linspace(min_val, max_val, 6) # 6개 기준점으로 나눈다\n",
    "bins"
   ]
  },
  {
   "cell_type": "code",
   "execution_count": 7,
   "id": "83d94409-1ad1-4cb7-8752-1be5a4601604",
   "metadata": {},
   "outputs": [],
   "source": [
    "# Labels for each bin\n",
    "# 5개\n",
    "labels=['0 <=x<2.38', '2.38<=x<4.76', '4.76<=x<7.14',\n",
    "       '7.14<=x<9.52', '9.52<=x<11.9']"
   ]
  },
  {
   "cell_type": "code",
   "execution_count": 8,
   "id": "8a2fa130-5bef-4c2a-a132-e914982bfc57",
   "metadata": {},
   "outputs": [
    {
     "name": "stdout",
     "output_type": "stream",
     "text": [
      "<class 'pandas.core.frame.DataFrame'>\n",
      "DatetimeIndex: 9357 entries, 2004-03-10 18:00:00 to 2005-04-04 14:00:00\n",
      "Data columns (total 12 columns):\n",
      " #   Column         Non-Null Count  Dtype   \n",
      "---  ------         --------------  -----   \n",
      " 0   CO(GT)         9357 non-null   float64 \n",
      " 1   PT08.S1(CO)    8991 non-null   float64 \n",
      " 2   PT08.S2(NMHC)  8991 non-null   float64 \n",
      " 3   NOx(GT)        7718 non-null   float64 \n",
      " 4   PT08.S3(NOx)   8991 non-null   float64 \n",
      " 5   NO2(GT)        7715 non-null   float64 \n",
      " 6   PT08.S4(NO2)   8991 non-null   float64 \n",
      " 7   PT08.S5(O3)    8991 non-null   float64 \n",
      " 8   RH             8991 non-null   float64 \n",
      " 9   AH             8991 non-null   float64 \n",
      " 10  C6H6(GT)       9357 non-null   float64 \n",
      " 11  bins           9357 non-null   category\n",
      "dtypes: category(1), float64(11)\n",
      "memory usage: 886.6 KB\n"
     ]
    }
   ],
   "source": [
    "# Convert the numerical values into the categorical values\n",
    "df['bins'] = pd.cut(df['CO(GT)'], bins=bins,\n",
    "                    labels=labels, include_lowest=True)\n",
    "df.info()"
   ]
  },
  {
   "cell_type": "code",
   "execution_count": 9,
   "id": "c991a0da-8e16-4491-8252-652a3ee87f8e",
   "metadata": {},
   "outputs": [
    {
     "data": {
      "text/plain": [
       "Datetime\n",
       "2004-03-10 18:00:00    2.38<=x<4.76\n",
       "2004-03-10 19:00:00      0 <=x<2.38\n",
       "2004-03-10 20:00:00      0 <=x<2.38\n",
       "2004-03-10 21:00:00      0 <=x<2.38\n",
       "2004-03-10 22:00:00      0 <=x<2.38\n",
       "2004-03-10 23:00:00      0 <=x<2.38\n",
       "2004-03-11 00:00:00      0 <=x<2.38\n",
       "2004-03-11 01:00:00      0 <=x<2.38\n",
       "2004-03-11 02:00:00      0 <=x<2.38\n",
       "2004-03-11 03:00:00      0 <=x<2.38\n",
       "2004-03-11 04:00:00      0 <=x<2.38\n",
       "2004-03-11 05:00:00      0 <=x<2.38\n",
       "2004-03-11 06:00:00      0 <=x<2.38\n",
       "2004-03-11 07:00:00      0 <=x<2.38\n",
       "2004-03-11 08:00:00      0 <=x<2.38\n",
       "2004-03-11 09:00:00      0 <=x<2.38\n",
       "2004-03-11 10:00:00      0 <=x<2.38\n",
       "2004-03-11 11:00:00      0 <=x<2.38\n",
       "2004-03-11 12:00:00      0 <=x<2.38\n",
       "2004-03-11 13:00:00      0 <=x<2.38\n",
       "2004-03-11 14:00:00    2.38<=x<4.76\n",
       "2004-03-11 15:00:00      0 <=x<2.38\n",
       "2004-03-11 16:00:00      0 <=x<2.38\n",
       "2004-03-11 17:00:00    2.38<=x<4.76\n",
       "2004-03-11 18:00:00    4.76<=x<7.14\n",
       "2004-03-11 19:00:00    4.76<=x<7.14\n",
       "2004-03-11 20:00:00    4.76<=x<7.14\n",
       "2004-03-11 21:00:00    2.38<=x<4.76\n",
       "2004-03-11 22:00:00      0 <=x<2.38\n",
       "2004-03-11 23:00:00      0 <=x<2.38\n",
       "2004-03-12 00:00:00      0 <=x<2.38\n",
       "2004-03-12 01:00:00      0 <=x<2.38\n",
       "2004-03-12 02:00:00      0 <=x<2.38\n",
       "2004-03-12 03:00:00      0 <=x<2.38\n",
       "2004-03-12 04:00:00      0 <=x<2.38\n",
       "2004-03-12 05:00:00      0 <=x<2.38\n",
       "2004-03-12 06:00:00      0 <=x<2.38\n",
       "2004-03-12 07:00:00      0 <=x<2.38\n",
       "2004-03-12 08:00:00    2.38<=x<4.76\n",
       "2004-03-12 09:00:00    2.38<=x<4.76\n",
       "2004-03-12 10:00:00    2.38<=x<4.76\n",
       "2004-03-12 11:00:00    2.38<=x<4.76\n",
       "2004-03-12 12:00:00      0 <=x<2.38\n",
       "2004-03-12 13:00:00    2.38<=x<4.76\n",
       "2004-03-12 14:00:00    2.38<=x<4.76\n",
       "2004-03-12 15:00:00    2.38<=x<4.76\n",
       "2004-03-12 16:00:00    2.38<=x<4.76\n",
       "2004-03-12 17:00:00    2.38<=x<4.76\n",
       "2004-03-12 18:00:00    2.38<=x<4.76\n",
       "2004-03-12 19:00:00    2.38<=x<4.76\n",
       "Name: bins, dtype: category\n",
       "Categories (5, object): ['0 <=x<2.38' < '2.38<=x<4.76' < '4.76<=x<7.14' < '7.14<=x<9.52' < '9.52<=x<11.9']"
      ]
     },
     "execution_count": 9,
     "metadata": {},
     "output_type": "execute_result"
    }
   ],
   "source": [
    "# Print bins\n",
    "df['bins'][:50]"
   ]
  },
  {
   "cell_type": "code",
   "execution_count": 10,
   "id": "79a74080-849c-460d-aafa-eca16bca5b3a",
   "metadata": {},
   "outputs": [],
   "source": [
    "# Visualize the histogram of bins\n",
    "plt.hist(df['bins'], bins=5)\n",
    "plt.show()\n",
    "# 히스토그램 형태로 데이터 시각화"
   ]
  },
  {
   "cell_type": "code",
   "execution_count": 11,
   "id": "e178fe7c-df68-4c23-a39b-c30f12bac450",
   "metadata": {},
   "outputs": [
    {
     "name": "stderr",
     "output_type": "stream",
     "text": [
      "C:\\Users\\hgkim\\anaconda3\\lib\\site-packages\\seaborn\\distributions.py:2557: FutureWarning: `distplot` is a deprecated function and will be removed in a future version. Please adapt your code to use either `displot` (a figure-level function with similar flexibility) or `histplot` (an axes-level function for histograms).\n",
      "  warnings.warn(msg, FutureWarning)\n"
     ]
    },
    {
     "data": {
      "text/plain": [
       "<AxesSubplot:xlabel='PT08.S3(NOx)', ylabel='Density'>"
      ]
     },
     "execution_count": 11,
     "metadata": {},
     "output_type": "execute_result"
    }
   ],
   "source": [
    "\"\"\"\n",
    "Log Transform\n",
    "\"\"\"\n",
    "\n",
    "# Distribution of original data\n",
    "sns.distplot(df['PT08.S3(NOx)']) # 질소 산화물 변수\n",
    "\n",
    "# 약간 우편향된 데이터"
   ]
  },
  {
   "cell_type": "code",
   "execution_count": 12,
   "id": "044b396c-1ab1-4b73-9385-420b946ec61f",
   "metadata": {},
   "outputs": [],
   "source": [
    "# Calculate natural logarithm on 'CO(GT)' column\n",
    "df['log'] = np.log10(df['PT08.S3(NOx)'])\n",
    "# np.log 는 자연로그 np.log10은 상용로그"
   ]
  },
  {
   "cell_type": "code",
   "execution_count": 13,
   "id": "7084814d-7158-454d-a0b0-c93b4d1a312b",
   "metadata": {},
   "outputs": [
    {
     "data": {
      "text/plain": [
       "CO(GT)                  0.0\n",
       "PT08.S1(CO)           647.0\n",
       "PT08.S2(NMHC)         383.0\n",
       "NOx(GT)                 2.0\n",
       "PT08.S3(NOx)          322.0\n",
       "NO2(GT)                 2.0\n",
       "PT08.S4(NO2)          551.0\n",
       "PT08.S5(O3)           221.0\n",
       "RH                      9.2\n",
       "AH                   0.1847\n",
       "C6H6(GT)                0.0\n",
       "bins             0 <=x<2.38\n",
       "log                2.507856\n",
       "dtype: object"
      ]
     },
     "execution_count": 13,
     "metadata": {},
     "output_type": "execute_result"
    }
   ],
   "source": [
    "# Min values for each column\n",
    "df.min()"
   ]
  },
  {
   "cell_type": "code",
   "execution_count": 14,
   "id": "c8a2c966-f399-42de-ac66-e41af9612e3b",
   "metadata": {},
   "outputs": [
    {
     "name": "stderr",
     "output_type": "stream",
     "text": [
      "C:\\Users\\hgkim\\anaconda3\\lib\\site-packages\\seaborn\\distributions.py:2557: FutureWarning: `distplot` is a deprecated function and will be removed in a future version. Please adapt your code to use either `displot` (a figure-level function with similar flexibility) or `histplot` (an axes-level function for histograms).\n",
      "  warnings.warn(msg, FutureWarning)\n"
     ]
    }
   ],
   "source": [
    "# Distribution after log transform\n",
    "sns.distplot(df['log'])\n",
    "plt.xlabel('log(PT08.S3(NoX))')\n",
    "plt.show()\n",
    "# 분포 변화"
   ]
  },
  {
   "cell_type": "code",
   "execution_count": null,
   "id": "66f3bf2f-53ce-48f6-97f6-d06638972d20",
   "metadata": {},
   "outputs": [],
   "source": []
  },
  {
   "cell_type": "code",
   "execution_count": 16,
   "id": "ea00a3dc-9b8b-4dd4-8ec8-7296faa8bb49",
   "metadata": {},
   "outputs": [],
   "source": [
    "\"\"\"\n",
    "One-hot Encoding\n",
    "\"\"\"\n",
    "\n",
    "# Make a dataset\n",
    "# 직원과 관련 (ID, 성별, 평가)\n",
    "emp_id = pd.Series([1, 2, 3, 4, 5])\n",
    "gender = pd.Series(['Male', 'Female', 'Female', 'Male', 'Female'])\n",
    "remarks = pd.Series(['Nice', 'Good', 'Great', 'Great', 'Nice'])\n",
    "# 각각을 Series로 만든 후\n",
    "\n",
    "# 빈 DataFrame을 만들어서 Series를 하나씩 coloumn으로 추가\n",
    "df_emp = pd.DataFrame() \n",
    "df_emp['emp_id'] = emp_id\n",
    "df_emp['gender'] = gender\n",
    "df_emp['remarks'] = remarks\n"
   ]
  },
  {
   "cell_type": "code",
   "execution_count": 17,
   "id": "ccc54c1b-f83e-4bd4-bc99-00177e4ca763",
   "metadata": {},
   "outputs": [
    {
     "data": {
      "text/html": [
       "<div>\n",
       "<style scoped>\n",
       "    .dataframe tbody tr th:only-of-type {\n",
       "        vertical-align: middle;\n",
       "    }\n",
       "\n",
       "    .dataframe tbody tr th {\n",
       "        vertical-align: top;\n",
       "    }\n",
       "\n",
       "    .dataframe thead th {\n",
       "        text-align: right;\n",
       "    }\n",
       "</style>\n",
       "<table border=\"1\" class=\"dataframe\">\n",
       "  <thead>\n",
       "    <tr style=\"text-align: right;\">\n",
       "      <th></th>\n",
       "      <th>emp_id</th>\n",
       "      <th>gender</th>\n",
       "      <th>remarks</th>\n",
       "    </tr>\n",
       "  </thead>\n",
       "  <tbody>\n",
       "    <tr>\n",
       "      <th>0</th>\n",
       "      <td>1</td>\n",
       "      <td>Male</td>\n",
       "      <td>Nice</td>\n",
       "    </tr>\n",
       "    <tr>\n",
       "      <th>1</th>\n",
       "      <td>2</td>\n",
       "      <td>Female</td>\n",
       "      <td>Good</td>\n",
       "    </tr>\n",
       "    <tr>\n",
       "      <th>2</th>\n",
       "      <td>3</td>\n",
       "      <td>Female</td>\n",
       "      <td>Great</td>\n",
       "    </tr>\n",
       "    <tr>\n",
       "      <th>3</th>\n",
       "      <td>4</td>\n",
       "      <td>Male</td>\n",
       "      <td>Great</td>\n",
       "    </tr>\n",
       "    <tr>\n",
       "      <th>4</th>\n",
       "      <td>5</td>\n",
       "      <td>Female</td>\n",
       "      <td>Nice</td>\n",
       "    </tr>\n",
       "  </tbody>\n",
       "</table>\n",
       "</div>"
      ],
      "text/plain": [
       "   emp_id  gender remarks\n",
       "0       1    Male    Nice\n",
       "1       2  Female    Good\n",
       "2       3  Female   Great\n",
       "3       4    Male   Great\n",
       "4       5  Female    Nice"
      ]
     },
     "execution_count": 17,
     "metadata": {},
     "output_type": "execute_result"
    }
   ],
   "source": [
    "# Print DataFrame\n",
    "df_emp"
   ]
  },
  {
   "cell_type": "code",
   "execution_count": 18,
   "id": "3bea69e1-042e-45d6-98f3-46dab10bb9b8",
   "metadata": {},
   "outputs": [
    {
     "name": "stdout",
     "output_type": "stream",
     "text": [
      "[1 2 3 4 5]\n",
      "['Male' 'Female']\n",
      "['Nice' 'Good' 'Great']\n"
     ]
    }
   ],
   "source": [
    "# Print unique values for each column\n",
    "print(df_emp['emp_id'].unique()) # id는 개별적으로 다름 / 예측력을 가지는 변수가 아니라 필요 없어\n",
    "print(df_emp['gender'].unique()) # 범주 2개 / 2개의 특징으로 구성된 이진벡터\n",
    "print(df_emp['remarks'].unique()) # 범주 3개 / 3개의 특징으로 구성된 이진벡터\n",
    "# 해당 coloumn에서 가능한 범주, unique한 값을 찾아 출력해줌"
   ]
  },
  {
   "cell_type": "code",
   "execution_count": 19,
   "id": "240f794a-72e9-423e-9638-b219079f51a6",
   "metadata": {},
   "outputs": [
    {
     "data": {
      "text/html": [
       "<div>\n",
       "<style scoped>\n",
       "    .dataframe tbody tr th:only-of-type {\n",
       "        vertical-align: middle;\n",
       "    }\n",
       "\n",
       "    .dataframe tbody tr th {\n",
       "        vertical-align: top;\n",
       "    }\n",
       "\n",
       "    .dataframe thead th {\n",
       "        text-align: right;\n",
       "    }\n",
       "</style>\n",
       "<table border=\"1\" class=\"dataframe\">\n",
       "  <thead>\n",
       "    <tr style=\"text-align: right;\">\n",
       "      <th></th>\n",
       "      <th>emp_id</th>\n",
       "      <th>gender_Female</th>\n",
       "      <th>gender_Male</th>\n",
       "      <th>remarks_Good</th>\n",
       "      <th>remarks_Great</th>\n",
       "      <th>remarks_Nice</th>\n",
       "    </tr>\n",
       "  </thead>\n",
       "  <tbody>\n",
       "    <tr>\n",
       "      <th>0</th>\n",
       "      <td>1</td>\n",
       "      <td>0</td>\n",
       "      <td>1</td>\n",
       "      <td>0</td>\n",
       "      <td>0</td>\n",
       "      <td>1</td>\n",
       "    </tr>\n",
       "    <tr>\n",
       "      <th>1</th>\n",
       "      <td>2</td>\n",
       "      <td>1</td>\n",
       "      <td>0</td>\n",
       "      <td>1</td>\n",
       "      <td>0</td>\n",
       "      <td>0</td>\n",
       "    </tr>\n",
       "    <tr>\n",
       "      <th>2</th>\n",
       "      <td>3</td>\n",
       "      <td>1</td>\n",
       "      <td>0</td>\n",
       "      <td>0</td>\n",
       "      <td>1</td>\n",
       "      <td>0</td>\n",
       "    </tr>\n",
       "    <tr>\n",
       "      <th>3</th>\n",
       "      <td>4</td>\n",
       "      <td>0</td>\n",
       "      <td>1</td>\n",
       "      <td>0</td>\n",
       "      <td>1</td>\n",
       "      <td>0</td>\n",
       "    </tr>\n",
       "    <tr>\n",
       "      <th>4</th>\n",
       "      <td>5</td>\n",
       "      <td>1</td>\n",
       "      <td>0</td>\n",
       "      <td>0</td>\n",
       "      <td>0</td>\n",
       "      <td>1</td>\n",
       "    </tr>\n",
       "  </tbody>\n",
       "</table>\n",
       "</div>"
      ],
      "text/plain": [
       "   emp_id  gender_Female  gender_Male  remarks_Good  remarks_Great  \\\n",
       "0       1              0            1             0              0   \n",
       "1       2              1            0             1              0   \n",
       "2       3              1            0             0              1   \n",
       "3       4              0            1             0              1   \n",
       "4       5              1            0             0              0   \n",
       "\n",
       "   remarks_Nice  \n",
       "0             1  \n",
       "1             0  \n",
       "2             0  \n",
       "3             0  \n",
       "4             1  "
      ]
     },
     "execution_count": 19,
     "metadata": {},
     "output_type": "execute_result"
    }
   ],
   "source": [
    "# One-hot encoding the categorial values\n",
    "df_emp_encoded = pd.get_dummies(\n",
    "    df_emp, columns = ['gender', 'remarks'])\n",
    "\n",
    "df_emp_encoded\n",
    "# One-hot encoding이 옛날에는 dummy data였음  (그래서 메소드 명이 get_dummies)\n",
    "# 원본데이터, coloumns = [coloumn 선택]"
   ]
  },
  {
   "cell_type": "code",
   "execution_count": null,
   "id": "e6e41c63-d3f9-4137-8b70-cf0b7e65ee3f",
   "metadata": {},
   "outputs": [],
   "source": []
  },
  {
   "cell_type": "code",
   "execution_count": 20,
   "id": "34c59ebb-ff60-4370-a78b-9e11d8eb3020",
   "metadata": {},
   "outputs": [
    {
     "data": {
      "text/plain": [
       "<matplotlib.legend.Legend at 0x1801a113c10>"
      ]
     },
     "execution_count": 20,
     "metadata": {},
     "output_type": "execute_result"
    }
   ],
   "source": [
    "\"\"\"\n",
    "Normalization\n",
    "\"\"\"\n",
    "\n",
    "# Visualize two columns of different scales\n",
    "plt.plot(df['CO(GT)'], label='CO')\n",
    "plt.plot(df['PT08.S2(NMHC)'], label='NMHC')\n",
    "plt.legend(loc='best')\n",
    "# 두 시계열의 스케일 차이가 엄청남"
   ]
  },
  {
   "cell_type": "code",
   "execution_count": 21,
   "id": "796f2bf2-25c9-4650-9bb7-4c0d0ba51987",
   "metadata": {},
   "outputs": [
    {
     "data": {
      "text/plain": [
       "Datetime\n",
       "2004-03-10 18:00:00    0.218487\n",
       "2004-03-10 19:00:00    0.168067\n",
       "2004-03-10 20:00:00    0.184874\n",
       "2004-03-10 21:00:00    0.184874\n",
       "2004-03-10 22:00:00    0.134454\n",
       "                         ...   \n",
       "2005-04-04 10:00:00    0.260504\n",
       "2005-04-04 11:00:00    0.201681\n",
       "2005-04-04 12:00:00    0.201681\n",
       "2005-04-04 13:00:00    0.176471\n",
       "2005-04-04 14:00:00    0.184874\n",
       "Name: CO_Norm, Length: 9357, dtype: float64"
      ]
     },
     "execution_count": 21,
     "metadata": {},
     "output_type": "execute_result"
    }
   ],
   "source": [
    "# Normalize the 'CO(GT)' column\n",
    "co = df['CO(GT)'].copy()\n",
    "co_max = co.max()\n",
    "co_min = co.min()\n",
    "# 최대 최소값 구해서\n",
    "\n",
    "df['CO_Norm'] = (co - co_min) / (co_max - co_min) # 수식 적용\n",
    "df['CO_Norm']"
   ]
  },
  {
   "cell_type": "code",
   "execution_count": 22,
   "id": "607790c6-c6a3-4b9f-b788-7e07ec306221",
   "metadata": {},
   "outputs": [
    {
     "data": {
      "text/plain": [
       "Datetime\n",
       "2004-03-10 18:00:00    0.362097\n",
       "2004-03-10 19:00:00    0.312398\n",
       "2004-03-10 20:00:00    0.303659\n",
       "2004-03-10 21:00:00    0.308575\n",
       "2004-03-10 22:00:00    0.247406\n",
       "                         ...   \n",
       "2005-04-04 10:00:00    0.392135\n",
       "2005-04-04 11:00:00    0.351720\n",
       "2005-04-04 12:00:00    0.371382\n",
       "2005-04-04 13:00:00    0.315674\n",
       "2005-04-04 14:00:00    0.362643\n",
       "Name: NMHC_Norm, Length: 9357, dtype: float64"
      ]
     },
     "execution_count": 22,
     "metadata": {},
     "output_type": "execute_result"
    }
   ],
   "source": [
    "# Normalize the 'PT08.S2(NMHC)' column\n",
    "nmhc = df['PT08.S2(NMHC)'].copy()\n",
    "nmhc_max = nmhc.max()\n",
    "nmhc_min = nmhc.min()\n",
    "\n",
    "df['NMHC_Norm'] = (nmhc - nmhc_min) / (nmhc_max - nmhc_min)\n",
    "df['NMHC_Norm']\n",
    "\n",
    "# 스케일 조정"
   ]
  },
  {
   "cell_type": "code",
   "execution_count": 23,
   "id": "4add6200-5bbd-47a6-b449-6dfcab03e899",
   "metadata": {},
   "outputs": [
    {
     "data": {
      "text/plain": [
       "<matplotlib.legend.Legend at 0x1801a33a070>"
      ]
     },
     "execution_count": 23,
     "metadata": {},
     "output_type": "execute_result"
    }
   ],
   "source": [
    "# Visualized normalized columns\n",
    "plt.plot(df['CO_Norm'], label='CO (normalized)')\n",
    "plt.plot(df['NMHC_Norm'], label='NMHC (normalized)')\n",
    "plt.legend(loc='best')\n",
    "# 양의 상관성이 높은 시계열"
   ]
  },
  {
   "cell_type": "code",
   "execution_count": null,
   "id": "90c830e2-5476-41e9-960a-23f0bbd3eafc",
   "metadata": {},
   "outputs": [],
   "source": []
  }
 ],
 "metadata": {
  "kernelspec": {
   "display_name": "Python 3",
   "language": "python",
   "name": "python3"
  },
  "language_info": {
   "codemirror_mode": {
    "name": "ipython",
    "version": 3
   },
   "file_extension": ".py",
   "mimetype": "text/x-python",
   "name": "python",
   "nbconvert_exporter": "python",
   "pygments_lexer": "ipython3",
   "version": "3.8.8"
  }
 },
 "nbformat": 4,
 "nbformat_minor": 5
}
