{
 "cells": [
  {
   "cell_type": "code",
   "execution_count": 1,
   "id": "1a3b2db4-8155-4293-96f8-f74544a2333f",
   "metadata": {},
   "outputs": [
    {
     "name": "stdout",
     "output_type": "stream",
     "text": [
      "<class 'bool'>\n",
      "<class 'str'>\n"
     ]
    }
   ],
   "source": [
    "\"\"\"\n",
    "boolean variables\n",
    "\"\"\"\n",
    "\n",
    "is_tested = False\n",
    "print(type(is_tested))\n",
    "\n",
    "a = \"3.14\"\n",
    "print(type(a))"
   ]
  },
  {
   "cell_type": "code",
   "execution_count": 2,
   "id": "6b7cf3f8-ddab-481b-9132-e03bcc5245a9",
   "metadata": {},
   "outputs": [
    {
     "name": "stdout",
     "output_type": "stream",
     "text": [
      "True\n",
      "True\n",
      "False\n"
     ]
    }
   ],
   "source": [
    "#1\n",
    "print(\"YES\" == 'YES')\n",
    "\n",
    "#2\n",
    "print((2>1) == (5<10))\n",
    "\n",
    "#3\n",
    "c = '2'\n",
    "d = 2\n",
    "print(c==d)"
   ]
  },
  {
   "cell_type": "code",
   "execution_count": 6,
   "id": "b5a2427d-2278-4239-91b6-ca42fe63a3e4",
   "metadata": {},
   "outputs": [
    {
     "name": "stdout",
     "output_type": "stream",
     "text": [
      "True\n",
      "True\n",
      "False\n",
      "True\n",
      "False\n",
      "True\n"
     ]
    }
   ],
   "source": [
    "print(True or True)\n",
    "print(True or False)\n",
    "print(False or False)\n",
    "print(1<2 or 3<1)\n",
    "print(3<1 or 1>6)\n",
    "print(1==1 or 1<2)"
   ]
  },
  {
   "cell_type": "code",
   "execution_count": 8,
   "id": "1c3df4e0-1e95-4035-885f-3041fd00d5a6",
   "metadata": {},
   "outputs": [
    {
     "name": "stdout",
     "output_type": "stream",
     "text": [
      "True\n",
      "False\n",
      "False\n",
      "True\n",
      "False\n"
     ]
    }
   ],
   "source": [
    "print(True and True)\n",
    "print(True and False)\n",
    "print(False and False)\n",
    "print(1==1 and 1<2)\n",
    "print(1<2 and 3<1)"
   ]
  },
  {
   "cell_type": "code",
   "execution_count": 2,
   "id": "ad879007-5b54-444f-936a-fd06b4539c48",
   "metadata": {},
   "outputs": [
    {
     "name": "stdout",
     "output_type": "stream",
     "text": [
      "말티푸\n",
      "True\n"
     ]
    }
   ],
   "source": [
    "\"\"\"\n",
    "Conditional statements (if/elif/else)\n",
    "\"\"\"\n",
    "\n",
    "puppy = \"maltepoo\"\n",
    "is_yes = False\n",
    "\n",
    "if puppy == \"maltese\":\n",
    "    print(\"말티즈\")\n",
    "    is_yes = True\n",
    "elif puppy == \"poodle\":\n",
    "    print(\"푸들\")\n",
    "    is_yes = True\n",
    "elif puppy == 'shitzu':\n",
    "    print(\"시츄\")\n",
    "    is_yes = True\n",
    "else:\n",
    "    print(\"말티푸\")\n",
    "    is_yes = True\n",
    "    \n",
    "print(is_yes)"
   ]
  },
  {
   "cell_type": "code",
   "execution_count": 4,
   "id": "ccf2188b-f57e-4907-808c-cc31b7cd021c",
   "metadata": {},
   "outputs": [
    {
     "name": "stdout",
     "output_type": "stream",
     "text": [
      "[Error]\n",
      "continue\n"
     ]
    }
   ],
   "source": [
    "\"\"\"\n",
    "Exception Handling\n",
    "\"\"\"\n",
    "\n",
    "# x=1\n",
    "# print(y)\n",
    "\n",
    "x = 1\n",
    "\n",
    "try:\n",
    "    print(y)\n",
    "    print(x)\n",
    "except:\n",
    "    print('[Error]')\n",
    "    \n",
    "print('continue')"
   ]
  }
 ],
 "metadata": {
  "kernelspec": {
   "display_name": "Python 3",
   "language": "python",
   "name": "python3"
  },
  "language_info": {
   "codemirror_mode": {
    "name": "ipython",
    "version": 3
   },
   "file_extension": ".py",
   "mimetype": "text/x-python",
   "name": "python",
   "nbconvert_exporter": "python",
   "pygments_lexer": "ipython3",
   "version": "3.8.8"
  }
 },
 "nbformat": 4,
 "nbformat_minor": 5
}
