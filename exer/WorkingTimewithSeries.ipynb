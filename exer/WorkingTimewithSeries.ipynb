{
 "cells": [
  {
   "cell_type": "code",
   "execution_count": 2,
   "id": "a6a372c1-1160-4a18-a1bf-46a4c3231d52",
   "metadata": {},
   "outputs": [
    {
     "name": "stdout",
     "output_type": "stream",
     "text": [
      "2021-10-27 00:00:00\n",
      "<class 'datetime.datetime'>\n"
     ]
    }
   ],
   "source": [
    "\"\"\"\n",
    "Native Python dates and times\n",
    "\"\"\"\n",
    "\n",
    "# Build a date using the datetime type\n",
    "\n",
    "from datetime import datetime\n",
    "\n",
    "t = datetime(year=2021, month=10, day=27)\n",
    "print(t)\n",
    "# 설정한대로 나옴\n",
    "print(type(t))"
   ]
  },
  {
   "cell_type": "code",
   "execution_count": 3,
   "id": "b6d52a28-8616-40a3-9a1e-a29ce4f9d527",
   "metadata": {},
   "outputs": [
    {
     "name": "stdout",
     "output_type": "stream",
     "text": [
      "2021-10-27 00:00:00\n"
     ]
    }
   ],
   "source": [
    "# Parse a date from a string\n",
    "\n",
    "from dateutil import parser\n",
    "\n",
    "date = parser.parse(\"27th of October, 2021\")\n",
    "print(date)"
   ]
  },
  {
   "cell_type": "code",
   "execution_count": 4,
   "id": "e3d8577c-ecc8-4cfd-8234-dd82c9d1878f",
   "metadata": {},
   "outputs": [
    {
     "data": {
      "text/plain": [
       "'Wednesday'"
      ]
     },
     "execution_count": 4,
     "metadata": {},
     "output_type": "execute_result"
    }
   ],
   "source": [
    "# Print the day of the week\n",
    "\n",
    "date.strftime('%A')\n"
   ]
  },
  {
   "cell_type": "code",
   "execution_count": 9,
   "id": "c5519eef-f822-438c-85f7-8edaa84ae988",
   "metadata": {},
   "outputs": [
    {
     "name": "stdout",
     "output_type": "stream",
     "text": [
      "<class 'numpy.datetime64'>\n",
      "['2021-10-27' '2021-10-28']\n",
      "2021-10-27\n"
     ]
    }
   ],
   "source": [
    "\"\"\"\n",
    "Types Arrays of Times: NumPy’s datetime64\n",
    "\"\"\"\n",
    "import numpy as np\n",
    "# Create datetime64 using array()\n",
    "date = np.array(['2021-10-27','2021-10-28'], dtype=np.datetime64)\n",
    "print(type(date[0]))\n",
    "\n",
    "print(date)\n",
    "\n",
    "# Use datetune64()\n",
    "date = np.datetime64('2021-10-27')\n",
    "print(date)"
   ]
  },
  {
   "cell_type": "code",
   "execution_count": 10,
   "id": "7dbc2a63-0de4-49cd-b96b-ca4765915013",
   "metadata": {},
   "outputs": [
    {
     "data": {
      "text/plain": [
       "array(['2021-10-27', '2021-10-28', '2021-10-29', '2021-10-30',\n",
       "       '2021-10-31', '2021-11-01', '2021-11-02'], dtype='datetime64[D]')"
      ]
     },
     "execution_count": 10,
     "metadata": {},
     "output_type": "execute_result"
    }
   ],
   "source": [
    "# We can quickly do vectorized operations on datetime64\n",
    "\n",
    "date + np.arange(7)\n",
    "# 단일 스칼라값 + [0, 1, ..., 6] 배열"
   ]
  },
  {
   "cell_type": "code",
   "execution_count": 11,
   "id": "ccea671b-e773-4b14-8784-f5983e94b19a",
   "metadata": {},
   "outputs": [
    {
     "name": "stdout",
     "output_type": "stream",
     "text": [
      "2021-10-27T09:27\n"
     ]
    }
   ],
   "source": [
    "# Minite-based datetime\n",
    "\n",
    "# 값 자체를 입력\n",
    "t = np.datetime64('2021-10-27 09:27')\n",
    "print(t)\n"
   ]
  },
  {
   "cell_type": "code",
   "execution_count": 12,
   "id": "243537f0-7395-4f3a-a8b1-1c92193d7c42",
   "metadata": {},
   "outputs": [
    {
     "name": "stdout",
     "output_type": "stream",
     "text": [
      "2021-10-27T09:27:10.200000000\n"
     ]
    }
   ],
   "source": [
    "# Nanosecond-based datetime\n",
    "\n",
    "t = np.datetime64('2021-10-27 09:27:10.20', 'ns')\n",
    "print(t)"
   ]
  },
  {
   "cell_type": "code",
   "execution_count": 13,
   "id": "b4d89411-ba1f-468f-845e-af8816e602a6",
   "metadata": {},
   "outputs": [
    {
     "name": "stdout",
     "output_type": "stream",
     "text": [
      "2021-10-27 00:00:00\n"
     ]
    }
   ],
   "source": [
    "\"\"\"\n",
    "Dates and Times in Pandas\n",
    "\"\"\"\n",
    "import pandas as pd\n",
    "# Parse a string date in pandas\n",
    "\n",
    "date = pd.to_datetime(\"27th of October, 2021\")\n",
    "# 문자열 -> parser같은 역할을 하는 pandas의 to_datetime\n",
    "print(date)"
   ]
  },
  {
   "cell_type": "code",
   "execution_count": 14,
   "id": "266f0753-ae85-45b3-89af-3d57432e72fb",
   "metadata": {},
   "outputs": [
    {
     "name": "stdout",
     "output_type": "stream",
     "text": [
      "Wednesday\n"
     ]
    }
   ],
   "source": [
    "# Output the day of the week\n",
    "\n",
    "print(date.strftime('%A'))"
   ]
  },
  {
   "cell_type": "code",
   "execution_count": 15,
   "id": "470bc4b1-c73c-4a0a-b283-095435714b59",
   "metadata": {},
   "outputs": [
    {
     "data": {
      "text/plain": [
       "DatetimeIndex([          '2021-10-27 00:00:00',\n",
       "               '2021-10-27 00:00:00.000000001',\n",
       "               '2021-10-27 00:00:00.000000002',\n",
       "               '2021-10-27 00:00:00.000000003',\n",
       "               '2021-10-27 00:00:00.000000004',\n",
       "               '2021-10-27 00:00:00.000000005',\n",
       "               '2021-10-27 00:00:00.000000006'],\n",
       "              dtype='datetime64[ns]', freq=None)"
      ]
     },
     "execution_count": 15,
     "metadata": {},
     "output_type": "execute_result"
    }
   ],
   "source": [
    "# NumPy-style vectorized operations\n",
    "\n",
    "date + pd.to_timedelta(np.arange(7))\n",
    "# 27일 00시를 기준으로 1_6시까지(?)\n",
    "# 스칼라+벡터, 스칼라+배열 간 연산 => 또 다른 배열 결과\n",
    "\n",
    "# pandas에서 타임스탬프는 우리가 분석하고자 하는 데이터의 인덱스로 사용됨"
   ]
  },
  {
   "cell_type": "code",
   "execution_count": 20,
   "id": "dbeb0fbe-cd0f-46b7-ac80-53189120926c",
   "metadata": {},
   "outputs": [
    {
     "name": "stdout",
     "output_type": "stream",
     "text": [
      "DatetimeIndex(['2021-10-27', '2021-10-28', '2021-10-29', '2021-10-30',\n",
      "               '2021-10-31', '2021-11-01', '2021-11-02'],\n",
      "              dtype='datetime64[ns]', freq=None)\n",
      "2021-10-27    0\n",
      "2021-10-28    1\n",
      "2021-10-29    2\n",
      "2021-10-30    3\n",
      "2021-10-31    4\n",
      "2021-11-01    5\n",
      "2021-11-02    6\n",
      "dtype: int64\n"
     ]
    },
    {
     "data": {
      "text/plain": [
       "2021-10-27    0\n",
       "2021-10-28    1\n",
       "2021-10-29    2\n",
       "2021-10-30    3\n",
       "2021-10-31    4\n",
       "dtype: int64"
      ]
     },
     "execution_count": 20,
     "metadata": {},
     "output_type": "execute_result"
    }
   ],
   "source": [
    "\"\"\"\n",
    "Pandas Time Seires: Indexing by Time\n",
    "\"\"\"\n",
    "\n",
    "# Indexing by timestamps\n",
    "\n",
    "ind = pd.DatetimeIndex(['2021-10-27', '2021-10-28', '2021-10-29', '2021-10-30',\n",
    "                        '2021-10-31', '2021-11-01', '2021-11-02'])\n",
    "# 인덱스로 설정하고 \n",
    "print(ind)\n",
    "\n",
    "# 인덱스를 적용해줄 데이터\n",
    "ser = pd.Series([0, 1, 2, 3, 4, 5, 6], index=ind) # ind를 인덱스로 사용하겠다\n",
    "print(ser)\n",
    "\n",
    "ser['2021-10-27':'2021-10-31']"
   ]
  },
  {
   "cell_type": "code",
   "execution_count": 23,
   "id": "38d1e8bc-f5af-40ea-94e1-fcca462e12aa",
   "metadata": {},
   "outputs": [
    {
     "name": "stdout",
     "output_type": "stream",
     "text": [
      "2021-10-27    0\n",
      "2021-10-28    1\n",
      "2021-10-29    2\n",
      "2021-10-30    3\n",
      "2021-10-31    4\n",
      "dtype: int64 \n",
      "\n",
      "2021-11-01    5\n",
      "2021-11-02    6\n",
      "dtype: int64 \n",
      "\n",
      "2021-10-27    0\n",
      "2021-10-28    1\n",
      "2021-10-29    2\n",
      "2021-10-30    3\n",
      "2021-10-31    4\n",
      "2021-11-01    5\n",
      "2021-11-02    6\n",
      "dtype: int64\n"
     ]
    }
   ],
   "source": [
    "# Indexing patterns\n",
    "\n",
    "print(ser['2021-10-27':'2021-10-31'], '\\n')\n",
    "\n",
    "print(ser['2021-11'], '\\n')\n",
    "\n",
    "print(ser['2021'])"
   ]
  },
  {
   "cell_type": "code",
   "execution_count": 24,
   "id": "eee7c951-50a6-46c7-8ed9-efc6d3124657",
   "metadata": {},
   "outputs": [
    {
     "name": "stdout",
     "output_type": "stream",
     "text": [
      "DatetimeIndex(['2015-07-03', '2015-07-04', '2015-07-06', '2015-07-07',\n",
      "               '2015-07-08'],\n",
      "              dtype='datetime64[ns]', freq=None)\n"
     ]
    }
   ],
   "source": [
    "\"\"\"\n",
    "Pandas Time Series Data Structures\n",
    "\"\"\"\n",
    "\n",
    "# Timestamp and DatetimeIndex\n",
    "\n",
    "# 배열 내 데이터들이 시간을 표현하는 방식이 저마다 다름\n",
    "dates = pd.to_datetime([datetime(2015, 7, 3),\n",
    "                      \"4th of July, 2015\",\n",
    "                      '2015-Jul-6',\n",
    "                      '07-07-2015',\n",
    "                      '20150708'])\n",
    "\n",
    "print(dates) # 잘 이해해서 통일된 형태로 보여줌"
   ]
  },
  {
   "cell_type": "code",
   "execution_count": 25,
   "id": "285bf796-0ae0-4728-bf8b-b247030a8a44",
   "metadata": {},
   "outputs": [
    {
     "data": {
      "text/plain": [
       "PeriodIndex(['2015-07-03', '2015-07-04', '2015-07-06', '2015-07-07',\n",
       "             '2015-07-08'],\n",
       "            dtype='period[D]', freq='D')"
      ]
     },
     "execution_count": 25,
     "metadata": {},
     "output_type": "execute_result"
    }
   ],
   "source": [
    "# DatetimeIndex -> PeriodIndex with to_period()\n",
    "\n",
    "dates.to_period('D') # '시간단위'"
   ]
  },
  {
   "cell_type": "code",
   "execution_count": 26,
   "id": "7818a543-15c9-4e85-b22a-d296238aab06",
   "metadata": {},
   "outputs": [
    {
     "data": {
      "text/plain": [
       "TimedeltaIndex(['0 days', '1 days', '3 days', '4 days', '5 days'], dtype='timedelta64[ns]', freq=None)"
      ]
     },
     "execution_count": 26,
     "metadata": {},
     "output_type": "execute_result"
    }
   ],
   "source": [
    "# TimedeltaIndex\n",
    "\n",
    "dates - dates[0]"
   ]
  },
  {
   "cell_type": "code",
   "execution_count": 27,
   "id": "1745c634-9358-49c3-9135-009f50d3119d",
   "metadata": {},
   "outputs": [
    {
     "data": {
      "text/plain": [
       "DatetimeIndex(['2021-10-27', '2021-10-28', '2021-10-29', '2021-10-30',\n",
       "               '2021-10-31'],\n",
       "              dtype='datetime64[ns]', freq='D')"
      ]
     },
     "execution_count": 27,
     "metadata": {},
     "output_type": "execute_result"
    }
   ],
   "source": [
    "\"\"\"\n",
    "Regular Sequences\n",
    "\"\"\"\n",
    "\n",
    "# pd.date_range(). default freq: day\n",
    "\n",
    "pd.date_range('2021-10-27', '2021-10-31')\n",
    "# default옵션이 '일별'로 지정되어있음"
   ]
  },
  {
   "cell_type": "code",
   "execution_count": 28,
   "id": "9abc4dc6-2cd0-4d8f-a482-828fe2729689",
   "metadata": {},
   "outputs": [
    {
     "data": {
      "text/plain": [
       "DatetimeIndex(['2021-10-27', '2021-10-28', '2021-10-29', '2021-10-30',\n",
       "               '2021-10-31'],\n",
       "              dtype='datetime64[ns]', freq='D')"
      ]
     },
     "execution_count": 28,
     "metadata": {},
     "output_type": "execute_result"
    }
   ],
   "source": [
    "# Use startpoint and num. of periods\n",
    "\n",
    "pd.date_range('2021-10-27', periods=5)"
   ]
  },
  {
   "cell_type": "code",
   "execution_count": 29,
   "id": "9e6ea88e-57af-4dc5-b97e-8fa1a8f3bf74",
   "metadata": {},
   "outputs": [
    {
     "data": {
      "text/plain": [
       "DatetimeIndex(['2021-10-27 00:00:00', '2021-10-27 01:00:00',\n",
       "               '2021-10-27 02:00:00', '2021-10-27 03:00:00',\n",
       "               '2021-10-27 04:00:00', '2021-10-27 05:00:00',\n",
       "               '2021-10-27 06:00:00', '2021-10-27 07:00:00',\n",
       "               '2021-10-27 08:00:00', '2021-10-27 09:00:00',\n",
       "               '2021-10-27 10:00:00', '2021-10-27 11:00:00'],\n",
       "              dtype='datetime64[ns]', freq='H')"
      ]
     },
     "execution_count": 29,
     "metadata": {},
     "output_type": "execute_result"
    }
   ],
   "source": [
    "# Change the frequency\n",
    "\n",
    "pd.date_range('2021-10-27', periods=12, freq='H') # 시간단위"
   ]
  },
  {
   "cell_type": "code",
   "execution_count": 30,
   "id": "df2d73a5-02bc-4d0f-9c43-612a7a5d2c6e",
   "metadata": {},
   "outputs": [
    {
     "data": {
      "text/plain": [
       "PeriodIndex(['2021-10', '2021-11', '2021-12', '2022-01', '2022-02', '2022-03',\n",
       "             '2022-04', '2022-05', '2022-06', '2022-07', '2022-08', '2022-09'],\n",
       "            dtype='period[M]', freq='M')"
      ]
     },
     "execution_count": 30,
     "metadata": {},
     "output_type": "execute_result"
    }
   ],
   "source": [
    "# pd.period_range()\n",
    "\n",
    "pd.period_range('2021-10', periods=12, freq='M')\n",
    "# 시간차, 기간 -> 인덱스로 활용하겠다"
   ]
  },
  {
   "cell_type": "code",
   "execution_count": 31,
   "id": "65808460-77d5-4662-ac10-3baa8cf8dcd6",
   "metadata": {},
   "outputs": [
    {
     "data": {
      "text/plain": [
       "TimedeltaIndex(['0 days 00:00:00', '0 days 01:00:00', '0 days 02:00:00',\n",
       "                '0 days 03:00:00', '0 days 04:00:00', '0 days 05:00:00',\n",
       "                '0 days 06:00:00', '0 days 07:00:00', '0 days 08:00:00',\n",
       "                '0 days 09:00:00'],\n",
       "               dtype='timedelta64[ns]', freq='H')"
      ]
     },
     "execution_count": 31,
     "metadata": {},
     "output_type": "execute_result"
    }
   ],
   "source": [
    "# pd.timedelta_range()\n",
    "\n",
    "pd.timedelta_range(0, periods=10, freq='H')"
   ]
  }
 ],
 "metadata": {
  "kernelspec": {
   "display_name": "Python 3",
   "language": "python",
   "name": "python3"
  },
  "language_info": {
   "codemirror_mode": {
    "name": "ipython",
    "version": 3
   },
   "file_extension": ".py",
   "mimetype": "text/x-python",
   "name": "python",
   "nbconvert_exporter": "python",
   "pygments_lexer": "ipython3",
   "version": "3.8.8"
  }
 },
 "nbformat": 4,
 "nbformat_minor": 5
}
