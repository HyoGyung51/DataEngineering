{
 "cells": [
  {
   "cell_type": "code",
   "execution_count": 3,
   "id": "467c9248-fa69-4806-8f24-d4af775b166b",
   "metadata": {},
   "outputs": [
    {
     "name": "stdout",
     "output_type": "stream",
     "text": [
      "[2, 3, 5, 7, 11, 2]\n"
     ]
    }
   ],
   "source": [
    "\"\"\"\n",
    "Lists\n",
    "\"\"\"\n",
    "\n",
    "primes = [2,3,5,7,11,2]\n",
    "print(primes)"
   ]
  },
  {
   "cell_type": "code",
   "execution_count": 5,
   "id": "57ffeb83-1bca-4532-9ef1-bc9f292dce78",
   "metadata": {},
   "outputs": [
    {
     "name": "stdout",
     "output_type": "stream",
     "text": [
      "['Jenny', 1, 1.4, True]\n",
      "[['a', 1], ['b', 2]]\n"
     ]
    }
   ],
   "source": [
    "\"\"\"\n",
    "Multiple different data types\n",
    "\"\"\"\n",
    "\n",
    "mixed = ['Jenny', 1, 1.4, True]\n",
    "print(mixed)\n",
    "list_of_lists = [['a',1],['b',2]]\n",
    "print(list_of_lists)"
   ]
  },
  {
   "cell_type": "code",
   "execution_count": 8,
   "id": "bc7eb0ca-1c69-4269-bbaa-e8c78e46e491",
   "metadata": {},
   "outputs": [
    {
     "name": "stdout",
     "output_type": "stream",
     "text": [
      "Roger\n",
      "Rafael\n",
      "Andy\n",
      "Novak\n"
     ]
    }
   ],
   "source": [
    "\"\"\"\n",
    "Zero-indexing\n",
    "\"\"\"\n",
    "\n",
    "names = ['Roger', 'Rafael', 'Andy', 'Novak']\n",
    "\n",
    "print(names[0]) # first data\n",
    "print(names[1])\n",
    "print(names[2])\n",
    "print(names[3])"
   ]
  },
  {
   "cell_type": "code",
   "execution_count": 10,
   "id": "873e980d-6494-4cb2-bd59-c515ec849dfd",
   "metadata": {},
   "outputs": [
    {
     "name": "stdout",
     "output_type": "stream",
     "text": [
      "Novak\n",
      "Andy\n",
      "Rafael\n",
      "Roger\n"
     ]
    }
   ],
   "source": [
    "\"\"\"\n",
    "Negative indexing\n",
    "\"\"\"\n",
    "\n",
    "print(names[-1]) # last data\n",
    "print(names[-2]) # second to last data\n",
    "print(names[-3]) # third to last data\n",
    "print(names[-4])"
   ]
  },
  {
   "cell_type": "code",
   "execution_count": 15,
   "id": "7f161a45-eec5-470f-b619-2f987dbb4e7a",
   "metadata": {},
   "outputs": [
    {
     "name": "stdout",
     "output_type": "stream",
     "text": [
      "['생활관', '필헌관', '소통관']\n",
      "['만우관', '장공관', '필헌관', '소통관', '송암관', '늦봄관', '장준하통일관']\n"
     ]
    }
   ],
   "source": [
    "\"\"\"\n",
    "List slicing\n",
    "\"\"\"\n",
    "\n",
    "hsu_buildings = ['만우관','장공관','필헌관','소통관','송암관','늦봄관','장준하통일관']\n",
    "building_slice = hsu_buildings[1:4] # 독립적인 객체\n",
    "# building_slice = hsu_buildings[:4]\n",
    "building_slice[0] = '생활관'\n",
    "\n",
    "print(building_slice)\n",
    "print(hsu_buildings)"
   ]
  },
  {
   "cell_type": "code",
   "execution_count": 18,
   "id": "377715a7-0d50-403c-aca9-b84528ec7f7b",
   "metadata": {},
   "outputs": [
    {
     "name": "stdout",
     "output_type": "stream",
     "text": [
      "[['해우리', '한식', '고S'], ['짜장명가', '중식', '중화비빔밥'], ['찌동', '한식', '제육전골'], ['맘터', '양식', '싸이버거']]\n",
      "['해우리', '한식', '해우라면']\n"
     ]
    }
   ],
   "source": [
    "\"\"\"\n",
    "Multi-dimensional List\n",
    "\"\"\"\n",
    "\n",
    "restaurants = [['해우리','한식','고S'],['짜장명가','중식','중화비빔밥'],\n",
    "              ['찌동','한식','제육전골'],['맘터','양식','싸이버거']]\n",
    "print(restaurants)\n",
    "\n",
    "restaurants[0][2] = '해우라면'\n",
    "print(restaurants[0])"
   ]
  },
  {
   "cell_type": "code",
   "execution_count": 20,
   "id": "da73b687-1ae3-4a50-a5e2-40f529f3035b",
   "metadata": {},
   "outputs": [
    {
     "name": "stdout",
     "output_type": "stream",
     "text": [
      "['cake', 'cookie', 'bread', 'biscuit', 'tart']\n"
     ]
    }
   ],
   "source": [
    "\"\"\"\n",
    "Adding Lists Together\n",
    "\"\"\"\n",
    "\n",
    "items_one = ['cake','cookie','bread']\n",
    "items_two = ['biscuit', 'tart']\n",
    "\n",
    "total_items = items_one + items_two\n",
    "print(total_items)"
   ]
  },
  {
   "cell_type": "code",
   "execution_count": 25,
   "id": "d9eb0687-13b0-4c99-88ce-d212f583c2a3",
   "metadata": {},
   "outputs": [
    {
     "name": "stdout",
     "output_type": "stream",
     "text": [
      "5\n",
      "['daisies', 'periwinkle', 'tulips']\n",
      "['Karla', 'Maxiun', 'Vikor', 'Martin', 'Isabella']\n",
      "[1, 2, 3, 4]\n",
      "['늦봄관', '만우관', '소통관', '송암관', '장공관', '장준하통일관', '필헌관']\n"
     ]
    }
   ],
   "source": [
    "\"\"\"\n",
    "Useful Methods for Lists\n",
    "\"\"\"\n",
    "\n",
    "# len()\n",
    "knapsack = [2,4,3,7,10]\n",
    "size = len(knapsack)\n",
    "print(size)\n",
    "\n",
    "# append()\n",
    "orders = ['daisies', 'periwinkle']\n",
    "orders.append('tulips')\n",
    "print(orders)\n",
    "\n",
    "# insert()\n",
    "store_line = ['Karla', 'Maxiun', 'Martin', 'Isabella']\n",
    "store_line.insert(2, 'Vikor')\n",
    "print(store_line)\n",
    "\n",
    "# sort()\n",
    "numbers = [4,2,1,3]\n",
    "numbers.sort()\n",
    "print(numbers)\n",
    "\n",
    "hsu_buildings = ['만우관','장공관','필헌관','소통관','송암관','늦봄관','장준하통일관']\n",
    "hsu_buildings.sort()\n",
    "print(hsu_buildings)"
   ]
  }
 ],
 "metadata": {
  "kernelspec": {
   "display_name": "Python 3",
   "language": "python",
   "name": "python3"
  },
  "language_info": {
   "codemirror_mode": {
    "name": "ipython",
    "version": 3
   },
   "file_extension": ".py",
   "mimetype": "text/x-python",
   "name": "python",
   "nbconvert_exporter": "python",
   "pygments_lexer": "ipython3",
   "version": "3.8.8"
  }
 },
 "nbformat": 4,
 "nbformat_minor": 5
}
