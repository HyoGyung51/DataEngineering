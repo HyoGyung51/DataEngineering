{
 "cells": [
  {
   "cell_type": "code",
   "execution_count": 2,
   "id": "a3ff1b3c-9742-4f77-9671-343f8eeb406d",
   "metadata": {},
   "outputs": [],
   "source": [
    "import numpy as np\n",
    "import pandas as pd # pandas 패키지의 전체 라이브러리를 로딩\n",
    "from matplotlib import pyplot as plt\n",
    "# matplotlib 패키지 덩어리가 커서 그 중에 pyplot만 import하고 pyplot으로 부르겠다"
   ]
  },
  {
   "cell_type": "code",
   "execution_count": 6,
   "id": "4af6ce47-ab3d-4f17-8ab0-034d2758b9b1",
   "metadata": {},
   "outputs": [
    {
     "name": "stdout",
     "output_type": "stream",
     "text": [
      "[1 2 3 4]\n"
     ]
    }
   ],
   "source": [
    "# Creating a Numpy Array\n",
    "lst = [1, 2, 3, 4]\n",
    "arr = np.array(lst)\n",
    "# arr = np.array([1, 2, 3, 4])\n",
    "print(arr)"
   ]
  },
  {
   "cell_type": "code",
   "execution_count": 7,
   "id": "0fc6afcc-7912-4f75-a66c-f624094a9398",
   "metadata": {},
   "outputs": [
    {
     "name": "stdout",
     "output_type": "stream",
     "text": [
      "int32\n"
     ]
    }
   ],
   "source": [
    "# .dtype attribute\n",
    "print(arr.dtype)\n",
    "# int32: 32비트로 정수를 표현\n",
    "\n",
    "# 여러 데이터타입이 모여있을 경우 '<u32' (u=여러 데이터 타입의 혼합)"
   ]
  },
  {
   "cell_type": "code",
   "execution_count": 10,
   "id": "ddbef0c6-17ee-47f6-b69e-0249271b04e7",
   "metadata": {},
   "outputs": [
    {
     "name": "stdout",
     "output_type": "stream",
     "text": [
      "64\n",
      "108\n"
     ]
    }
   ],
   "source": [
    "\"\"\"\n",
    "Size Comparison of ndrray and lis objects\n",
    "\"\"\"\n",
    "\n",
    "from sys import getsizeof\n",
    "\n",
    "lst=[1]\n",
    "print(getsizeof(lst)) # 56->64\n",
    "#int+object meta info까지 포함\n",
    "\n",
    "arr = np.array(lst)\n",
    "print(getsizeof(arr)) # 104 -> 108 \n",
    "#더 많은 메모리 차지?\n",
    "#값 자체만 저장하기 때문에 int(4bytes만큼만)\n",
    "#리스트 내 요소들이 많아질수록 np가 효율적"
   ]
  },
  {
   "cell_type": "code",
   "execution_count": 13,
   "id": "872d34a0-7075-4f93-bb55-a0c78061e32f",
   "metadata": {},
   "outputs": [
    {
     "name": "stdout",
     "output_type": "stream",
     "text": [
      "[25, 20, 35, 15, 15, 30, 45, 30]\n",
      "[25 20 35 15 15 30 45 30]\n"
     ]
    }
   ],
   "source": [
    "\"\"\"\n",
    "Operations with Numpy Arrays\n",
    "\"\"\"\n",
    "prices = [30, 25, 40, 20, 20, 35, 50, 35]\n",
    "\n",
    "# With a list\n",
    "new_prices = [price-5 for price in prices]\n",
    "print(new_prices)\n",
    "\n",
    "# With a ndarray\n",
    "prices_arr = np.array(prices)\n",
    "prices_arr = prices_arr - 5\n",
    "print(prices_arr)\n",
    "\n",
    "# ** operation and np.sqrt"
   ]
  },
  {
   "cell_type": "code",
   "execution_count": 23,
   "id": "58a9baea-bb6f-4072-a95a-1541ef50abef",
   "metadata": {},
   "outputs": [
    {
     "name": "stdout",
     "output_type": "stream",
     "text": [
      "[89 87 74 92 94]\n",
      "[260 281 248 276 272]\n",
      "[86.66666667 93.66666667 82.66666667 92.         90.66666667]\n",
      "93\n",
      "[94 88]\n",
      "[[ 92  94  88  91  87]\n",
      " [ 79 100  86  93  91]\n",
      " [ 87  85  72  90  92]]\n",
      "87\n",
      "[87 91 92]\n"
     ]
    }
   ],
   "source": [
    "\"\"\"\n",
    "Exercise: Operation with Test Scores\n",
    "\"\"\"\n",
    "\n",
    "test_1 = np.array([92, 94, 88, 91, 87])\n",
    "test_2 = np.array([79, 100, 86, 93, 91])\n",
    "test_3 = np.array([87, 85, 72, 90, 92])\n",
    "\n",
    "test_3_fixed = test_3 +2\n",
    "print(test_3_fixed)\n",
    "\n",
    "total_grade = test_1 + test_2 + test_3_fixed\n",
    "print(total_grade)\n",
    "\n",
    "final_grade = total_grade / 3\n",
    "print(final_grade)\n",
    "\n",
    "jeremy_test_2 = test_2[3]\n",
    "print(jeremy_test_2)\n",
    "manual_adwoa_test_1 = np.array([test_1[1], test_1[2]])\n",
    "print(manual_adwoa_test_1)\n",
    "\n",
    "student_scores = np.array([test_1, test_2, test_3])\n",
    "print(student_scores)\n",
    "\n",
    "print(student_scores[2,0])\n",
    "\n",
    "print(student_scores[:,4]) # 4 대신 -1"
   ]
  },
  {
   "cell_type": "code",
   "execution_count": 5,
   "id": "1201c8ef-85c1-4023-889b-12759c835003",
   "metadata": {},
   "outputs": [
    {
     "name": "stdout",
     "output_type": "stream",
     "text": [
      "[ True False False False False False  True  True  True  True]\n",
      "[10  9  8  9  7]\n",
      "[10  2  2  3  9  8  9  7]\n",
      "[5 7]\n"
     ]
    }
   ],
   "source": [
    "\"\"\"\n",
    "Logical Operations with Arrays\n",
    "\"\"\"\n",
    "\n",
    "a = np.array([10, 2, 2, 4, 5, 3, 9, 8, 9, 7])\n",
    "mask = a > 5\n",
    "print(mask)\n",
    "\n",
    "\n",
    "# select using logical operations\n",
    "selected = a[a > 5] # 배열 a의 원소들 중 5보다 큰 것만 selected에 할당\n",
    "print(selected)\n",
    "\n",
    "# combined logical operations 논리합: | 논리곱: &\n",
    "selected = a[(a > 6) | (a < 4)]  # 우선순위가 존재하기 때문에 괄호로 묶어줘야\n",
    "print(selected)\n",
    "\n",
    "selected = a[(a > 4) & (a < 8)]\n",
    "print(selected)"
   ]
  },
  {
   "cell_type": "code",
   "execution_count": 10,
   "id": "b65213fb-3b0f-4409-b232-46068b43e35f",
   "metadata": {},
   "outputs": [
    {
     "name": "stdout",
     "output_type": "stream",
     "text": [
      "[50 56 51] 은/는 너무 차가워요\n",
      "[90 85 98] 은/는 너무 뜨거워요\n",
      "[70 65 79] 은/는 딱 좋아요!\n"
     ]
    }
   ],
   "source": [
    "\"\"\"\n",
    "Exercise: Goldilocks Porridge Festival\n",
    "\"\"\"\n",
    "\n",
    "porridge = np.array([70, 65, 50, 56, 90, 85, 98, 79, 51])\n",
    "\n",
    "cold = porridge[porridge < 60]\n",
    "hot = porridge[porridge > 80]\n",
    "just_right = porridge[(60 < porridge) & (porridge < 80)]\n",
    "\n",
    "print(cold, \"은/는 너무 차가워요\")\n",
    "print(hot, \"은/는 너무 뜨거워요\")\n",
    "print(just_right, \"은/는 딱 좋아요!\")"
   ]
  }
 ],
 "metadata": {
  "kernelspec": {
   "display_name": "Python 3",
   "language": "python",
   "name": "python3"
  },
  "language_info": {
   "codemirror_mode": {
    "name": "ipython",
    "version": 3
   },
   "file_extension": ".py",
   "mimetype": "text/x-python",
   "name": "python",
   "nbconvert_exporter": "python",
   "pygments_lexer": "ipython3",
   "version": "3.8.8"
  }
 },
 "nbformat": 4,
 "nbformat_minor": 5
}
