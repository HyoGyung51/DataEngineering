{
 "cells": [
  {
   "cell_type": "code",
   "execution_count": 3,
   "id": "aed51a9f-782c-476b-9298-3d02190a3fa3",
   "metadata": {},
   "outputs": [
    {
     "name": "stdout",
     "output_type": "stream",
     "text": [
      "Hello world!\n",
      "100\n",
      "3.14\n",
      "My name is HyoGyung Kim!\n"
     ]
    }
   ],
   "source": [
    "\"\"\"\n",
    "print() function\n",
    "\"\"\"\n",
    "\n",
    "print(\"Hello world!\")\n",
    "print(100)\n",
    "pi = 3.14\n",
    "print(pi)\n",
    "\n",
    "intro = \"My name is \"\n",
    "name = \"HyoGyung Kim\"\n",
    "print(intro+name+\"!\")"
   ]
  },
  {
   "cell_type": "code",
   "execution_count": 5,
   "id": "f1304b80-8457-4d08-af44-7048f54370e0",
   "metadata": {},
   "outputs": [],
   "source": [
    "\"\"\"\n",
    "Variables\n",
    "\"\"\"\n",
    "\n",
    "# 나를 표현할 수 있는 정보 세 가지 이상을 변수로 선언하시오\n",
    "user_name = \"HyoGyung Kim\"\n",
    "user_age = 24\n",
    "user_hight = 170\n",
    "is_male = False"
   ]
  },
  {
   "cell_type": "code",
   "execution_count": 7,
   "id": "fcd3ef85-c1e6-4cb7-8dd6-6c68cee426bb",
   "metadata": {},
   "outputs": [],
   "source": [
    "\"\"\"\n",
    "Data Type: Integers\n",
    "\"\"\"\n",
    "\n",
    "# 집에 있는 세 가지 이상의 사물의 갯수를 정수 변수로 표현하시오\n",
    "\n",
    "toothbrushes = 4\n",
    "labtops = 4\n",
    "apple_watches = 0\n",
    "broken_chairs = -2"
   ]
  },
  {
   "cell_type": "code",
   "execution_count": 9,
   "id": "5978917d-f2f1-431f-a163-f5035745e5ce",
   "metadata": {},
   "outputs": [],
   "source": [
    "\"\"\"\n",
    "Data Types: Real Numbers\n",
    "\"\"\"\n",
    "\n",
    "# 본인이 알고 있는 세 개의 실수를 변수로 정의하시오\n",
    "pi = 3.14\n",
    "temperature = 18.7\n",
    "thickness_of_the_pen = 0.38"
   ]
  },
  {
   "cell_type": "code",
   "execution_count": 12,
   "id": "b30a5abc-4d10-44c0-83e2-cb524836c438",
   "metadata": {},
   "outputs": [
    {
     "name": "stdout",
     "output_type": "stream",
     "text": [
      "Elisabeth\n",
      "Ulsan Hyundai\n",
      "Rapunzel\n",
      "ElisabethUlsan HyundaiRapunzel\n"
     ]
    }
   ],
   "source": [
    "\"\"\"\n",
    "Data Type: String\n",
    "\"\"\"\n",
    "favorite_musical = \"Elisabeth\"\n",
    "favorite_Kleague_team = \"Ulsan Hyundai\"\n",
    "favorite_character = \"Rapunzel\"\n",
    "\n",
    "print(favorite_musical)\n",
    "print(favorite_football_team)\n",
    "print(favorite_character)\n",
    "\n",
    "favorites = favorite_musical + favorite_football_team + favorite_character\n",
    "\n",
    "print(favorites)"
   ]
  },
  {
   "cell_type": "code",
   "execution_count": 14,
   "id": "6938b417-5b74-4694-a3e1-a3c81f543f0b",
   "metadata": {},
   "outputs": [
    {
     "name": "stdout",
     "output_type": "stream",
     "text": [
      "8\n"
     ]
    }
   ],
   "source": [
    "\"\"\"\n",
    "x-Equals Operations\n",
    "\"\"\"\n",
    "\n",
    "a = 2\n",
    "a **= 3\n",
    "print(a)"
   ]
  },
  {
   "cell_type": "code",
   "execution_count": 16,
   "id": "6f574dee-8b29-4d21-bd6c-93038ee46842",
   "metadata": {},
   "outputs": [
    {
     "ename": "NameError",
     "evalue": "name 'my_name' is not defined",
     "output_type": "error",
     "traceback": [
      "\u001b[1;31m---------------------------------------------------------------------------\u001b[0m",
      "\u001b[1;31mNameError\u001b[0m                                 Traceback (most recent call last)",
      "\u001b[1;32m<ipython-input-16-244c3bbd60b3>\u001b[0m in \u001b[0;36m<module>\u001b[1;34m\u001b[0m\n\u001b[0;32m      5\u001b[0m \u001b[1;31m# Name Error\u001b[0m\u001b[1;33m\u001b[0m\u001b[1;33m\u001b[0m\u001b[1;33m\u001b[0m\u001b[0m\n\u001b[0;32m      6\u001b[0m \u001b[1;33m\u001b[0m\u001b[0m\n\u001b[1;32m----> 7\u001b[1;33m \u001b[0mprint\u001b[0m\u001b[1;33m(\u001b[0m\u001b[0mmy_name\u001b[0m\u001b[1;33m)\u001b[0m\u001b[1;33m\u001b[0m\u001b[1;33m\u001b[0m\u001b[0m\n\u001b[0m\u001b[0;32m      8\u001b[0m \u001b[0mmy_name\u001b[0m \u001b[1;33m=\u001b[0m \u001b[1;34m\"HyoGyung Kim\"\u001b[0m\u001b[1;33m\u001b[0m\u001b[1;33m\u001b[0m\u001b[0m\n",
      "\u001b[1;31mNameError\u001b[0m: name 'my_name' is not defined"
     ]
    }
   ],
   "source": [
    "\"\"\"\n",
    "Errors\n",
    "\"\"\"\n",
    "\n",
    "# Name Error\n",
    "\n",
    "print(my_name)\n",
    "my_name = \"HyoGyung Kim\""
   ]
  },
  {
   "cell_type": "markdown",
   "id": "4f51e147-3b4b-4f87-a127-09fa915e5e33",
   "metadata": {},
   "source": []
  },
  {
   "cell_type": "markdown",
   "id": "115a72c0-f194-448b-9b91-4a4c5d1ae044",
   "metadata": {},
   "source": [
    "# Practice 1:\n",
    "이 코드는 ~~하는 코드입니다\n"
   ]
  }
 ],
 "metadata": {
  "kernelspec": {
   "display_name": "Python 3",
   "language": "python",
   "name": "python3"
  },
  "language_info": {
   "codemirror_mode": {
    "name": "ipython",
    "version": 3
   },
   "file_extension": ".py",
   "mimetype": "text/x-python",
   "name": "python",
   "nbconvert_exporter": "python",
   "pygments_lexer": "ipython3",
   "version": "3.8.8"
  }
 },
 "nbformat": 4,
 "nbformat_minor": 5
}
