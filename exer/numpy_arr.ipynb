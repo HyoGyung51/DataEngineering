{
 "cells": [
  {
   "cell_type": "code",
   "execution_count": 1,
   "id": "7773fd3b-4582-4bc8-8981-a783ee5e2f3b",
   "metadata": {},
   "outputs": [],
   "source": [
    "import numpy as np"
   ]
  },
  {
   "cell_type": "code",
   "execution_count": 11,
   "id": "7df41c67-32bd-44cb-b7a8-06d4976afd1b",
   "metadata": {},
   "outputs": [
    {
     "name": "stdout",
     "output_type": "stream",
     "text": [
      "[0 1 2]\n",
      "[3 4 5 6 7 8]\n",
      "[3 5 7]\n"
     ]
    }
   ],
   "source": [
    "\"\"\"\n",
    "Numpy Array Attributes\n",
    "\"\"\"\n",
    "\n",
    "# Createing an array\n",
    "\n",
    "print(np.arange(3))\n",
    "print(np.arange(3,9))\n",
    "print(np.arange(3,9,2))"
   ]
  },
  {
   "cell_type": "code",
   "execution_count": 4,
   "id": "3cd26fa4-0bf9-4f24-9af6-8788d3ffca5e",
   "metadata": {},
   "outputs": [
    {
     "name": "stdout",
     "output_type": "stream",
     "text": [
      "[5 0 3 3 7 9]\n",
      "[[3 5 2 4]\n",
      " [7 6 8 8]\n",
      " [1 6 7 7]]\n",
      "[[[8 1 5 9 8]\n",
      "  [9 4 3 0 3]\n",
      "  [5 0 2 3 8]\n",
      "  [1 3 3 3 7]]\n",
      "\n",
      " [[0 1 9 9 0]\n",
      "  [4 7 3 2 7]\n",
      "  [2 0 0 4 5]\n",
      "  [5 6 8 4 1]]\n",
      "\n",
      " [[4 9 8 1 1]\n",
      "  [7 9 9 3 6]\n",
      "  [7 2 0 3 5]\n",
      "  [9 4 4 6 4]]]\n"
     ]
    }
   ],
   "source": [
    "# Random number generator\n",
    "\n",
    "np.random.seed(0)\n",
    "arr1 = np.random.randint(10, size=6)\n",
    "print(arr1)\n",
    "arr2 = np.random.randint(10, size=(3,4))\n",
    "print(arr2)\n",
    "arr3 = np.random.randint(10, size=(3,4,5))\n",
    "print(arr3)"
   ]
  },
  {
   "cell_type": "code",
   "execution_count": 6,
   "id": "eaf71fc0-2b82-4540-a65e-eb85d9721a07",
   "metadata": {},
   "outputs": [
    {
     "name": "stdout",
     "output_type": "stream",
     "text": [
      "[[3 5 2 4]\n",
      " [7 6 8 8]\n",
      " [1 6 7 7]]\n",
      "arr2.ndim =  2\n",
      "arr2.shape =  (3, 4)\n",
      "arr2.size =  12\n",
      "arr2.dtype =  int32\n",
      "arr2.itemsize =  4\n",
      "arr2.nbytes =  48\n"
     ]
    }
   ],
   "source": [
    "# Attributes\n",
    "print(arr2)\n",
    "\n",
    "print(\"arr2.ndim = \", arr2.ndim)\n",
    "print(\"arr2.shape = \", arr2.shape)\n",
    "print(\"arr2.size = \", arr2.size)\n",
    "print(\"arr2.dtype = \", arr2.dtype)\n",
    "print(\"arr2.itemsize = \", arr2.itemsize)\n",
    "print(\"arr2.nbytes = \", arr2.nbytes)"
   ]
  },
  {
   "cell_type": "code",
   "execution_count": 12,
   "id": "c69290d2-fab8-423c-8f7c-f00dd0a9eaa6",
   "metadata": {},
   "outputs": [
    {
     "name": "stdout",
     "output_type": "stream",
     "text": [
      "[0 1 2 3 4 5 6 7 8 9]\n",
      "[3 4 5 6]\n",
      "[0 1 2 3 4]\n",
      "[5 6 7 8 9]\n",
      "[0 3 6 9]\n",
      "[2 4 6]\n"
     ]
    }
   ],
   "source": [
    "\"\"\"\n",
    "Slicing\n",
    "\"\"\"\n",
    "arr = np.arange(10)\n",
    "print(arr)\n",
    "\n",
    "print(arr[3:7])\n",
    "print(arr[:5])\n",
    "print(arr[5:])\n",
    "print(arr[::3])\n",
    "print(arr[2:8:2])"
   ]
  },
  {
   "cell_type": "code",
   "execution_count": 8,
   "id": "24b7365f-6174-43e7-8ee6-05a1efacb813",
   "metadata": {},
   "outputs": [
    {
     "name": "stdout",
     "output_type": "stream",
     "text": [
      "[[5 0 3 3 7 9 3 5]\n",
      " [2 4 7 6 8 8 1 6]\n",
      " [7 7 8 1 5 9 8 9]\n",
      " [4 3 0 3 5 0 2 3]\n",
      " [8 1 3 3 3 7 0 1]\n",
      " [9 9 0 4 7 3 2 7]]\n",
      "[[5 0 2]\n",
      " [3 7 0]]\n"
     ]
    }
   ],
   "source": [
    "# Multi-dimensional subarrays\n",
    "\n",
    "np.random.seed(0)\n",
    "arr = np.random.randint(10, size=(6,8))\n",
    "print(arr)\n",
    "\n",
    "arr_sub = arr[3:5, 4:7]\n",
    "print(arr_sub)"
   ]
  },
  {
   "cell_type": "code",
   "execution_count": 13,
   "id": "2fac4872-3ca6-464b-97d5-7b8ef2cd9155",
   "metadata": {},
   "outputs": [
    {
     "name": "stdout",
     "output_type": "stream",
     "text": [
      "[[5 8 9 5]\n",
      " [0 0 1 7]\n",
      " [6 9 2 4]] \n",
      "\n",
      "[[5 8]\n",
      " [0 0]] \n",
      "\n"
     ]
    }
   ],
   "source": [
    "\"\"\"\n",
    "Subarrays as no-copy views\n",
    "\"\"\"\n",
    "\n",
    "np.random.seed(1)\n",
    "arr = np.random.randint(10,size=(3,4))\n",
    "print(arr,'\\n')\n",
    "\n",
    "arr_sub = arr[:2,:2]\n",
    "print(arr_sub,'\\n')"
   ]
  },
  {
   "cell_type": "code",
   "execution_count": 17,
   "id": "4777ad97-8a33-4ab7-a7bb-d12b94083cb6",
   "metadata": {},
   "outputs": [
    {
     "name": "stdout",
     "output_type": "stream",
     "text": [
      "[[12  5  2  4]\n",
      " [ 7  6  8  8]\n",
      " [ 1  6  7  7]]\n",
      "[[12  5]\n",
      " [ 7  6]] \n",
      "\n",
      "[[12  5  2  4]\n",
      " [ 7  6  8  8]\n",
      " [ 1  6  7  7]]\n",
      "[[99  5]\n",
      " [ 7  6]]\n"
     ]
    }
   ],
   "source": [
    "# .copy()\n",
    "arr = np.array([[12,5,2,4],[7,6,8,8],[1,6,7,7]])\n",
    "print(arr)\n",
    "\n",
    "arr_sub = arr[:2,:2].copy()\n",
    "print(arr_sub, '\\n')\n",
    "\n",
    "arr_sub[0,0] = 99\n",
    "print(arr) # 원본은 변하지 않음\n",
    "print(arr_sub) # 복사본만 값이 변해있음"
   ]
  },
  {
   "cell_type": "code",
   "execution_count": 19,
   "id": "e39511dd-2c23-4114-89bc-0f96b6f95d72",
   "metadata": {},
   "outputs": [
    {
     "name": "stdout",
     "output_type": "stream",
     "text": [
      "[1 2 3 4 5 6 7 8 9] \n",
      "\n",
      "[[1 2 3]\n",
      " [4 5 6]\n",
      " [7 8 9]] \n",
      "\n"
     ]
    }
   ],
   "source": [
    "\"\"\"\n",
    "Reshaping of Arrays\n",
    "\"\"\"\n",
    "arr = np.arange(1,10)\n",
    "print(arr,'\\n')\n",
    "\n",
    "# reshape()\n",
    "grid = arr.reshape(3,3)\n",
    "print(grid, '\\n')"
   ]
  },
  {
   "cell_type": "code",
   "execution_count": 23,
   "id": "4e0dfd5f-e4d3-465a-8c23-2524b10a4a8b",
   "metadata": {},
   "outputs": [
    {
     "name": "stdout",
     "output_type": "stream",
     "text": [
      "[1 2 3]\n",
      "arr.ndim =  1\n",
      "arr.shape =  (3,)\n",
      "[[1 2 3]]\n",
      "[1 2 3]\n",
      "arr_new.ndim =  2\n",
      "arr_new.shape =  (1, 3)\n"
     ]
    }
   ],
   "source": [
    "# np.newaxis\n",
    "\n",
    "arr = np.array([1,2,3])\n",
    "print(arr)\n",
    "print(\"arr.ndim = \", arr.ndim) # 차원 갯수\n",
    "print(\"arr.shape = \", arr.shape) # 배열 차원 크기\n",
    "\n",
    "arr_new = arr[np.newaxis, :]\n",
    "# arr_new = arr[:, np.newaxis] => shape가 (3,1)로 나옴\n",
    "print(arr_new) # [[]] => 2차원 행렬\n",
    "print(arr)\n",
    "print(\"arr_new.ndim = \", arr_new.ndim) \n",
    "print(\"arr_new.shape = \", arr_new.shape)"
   ]
  },
  {
   "cell_type": "code",
   "execution_count": 31,
   "id": "54506683-87d0-434f-b4c4-77a896d46deb",
   "metadata": {},
   "outputs": [
    {
     "name": "stdout",
     "output_type": "stream",
     "text": [
      "[1 2 3 4 5 6 7 8 9] \n",
      "\n",
      "[[1 2 3]\n",
      " [4 5 6]\n",
      " [7 8 9]] \n",
      "\n",
      "[1 2 3 4 5 6 7 8 9] \n",
      "\n",
      "[[ 1  2  3]\n",
      " [10 20 30]\n",
      " [ 4  5  6]\n",
      " [40 50 60]\n",
      " [ 7  8  9]\n",
      " [70 80 90]] \n",
      "\n",
      "[[ 1  2  3]\n",
      " [10 20 30]\n",
      " [ 4  5  6]\n",
      " [40 50 60]\n",
      " [ 7  8  9]\n",
      " [70 80 90]] \n",
      "\n",
      "[[ 1  2  3  4  5  6  7  8  9]\n",
      " [10 20 30 40 50 60 70 80 90]] \n",
      "\n"
     ]
    }
   ],
   "source": [
    "\"\"\"\n",
    "Array Concatenation\n",
    "\"\"\"\n",
    "\n",
    "# np.concatenate(), np.vstack(), np.hstack()\n",
    "\n",
    "arr_1 = np.array([1,2,3])\n",
    "arr_2 = np.array([4,5,6])\n",
    "arr_3 = np.array([7,8,9])\n",
    "\n",
    "arr_total = np.concatenate([arr_1, arr_2, arr_3])\n",
    "print(arr_total,'\\n')\n",
    "\n",
    "arr_total = np.vstack([arr_1,arr_2,arr_3])\n",
    "print(arr_total,'\\n')\n",
    "\n",
    "arr_total = np.hstack([arr_1,arr_2,arr_3])\n",
    "print(arr_total,'\\n')\n",
    "\n",
    "# 2차원일 때\n",
    "arr_1 = np.array([[1,2,3],[10,20,30]])\n",
    "arr_2 = np.array([[4,5,6],[40,50,60]])\n",
    "arr_3 = np.array([[7,8,9],[70,80,90]])\n",
    "\n",
    "arr_total = np.concatenate([arr_1, arr_2, arr_3])\n",
    "print(arr_total,'\\n')\n",
    "# axis=0: row방향 / axis=1: coloumn방향\n",
    "\n",
    "arr_total = np.vstack([arr_1,arr_2,arr_3])\n",
    "print(arr_total,'\\n')\n",
    "\n",
    "arr_total = np.hstack([arr_1,arr_2,arr_3])\n",
    "print(arr_total,'\\n')"
   ]
  },
  {
   "cell_type": "code",
   "execution_count": 32,
   "id": "fd9a27e4-3c0e-4cd4-ae53-8d37edf3a2d8",
   "metadata": {},
   "outputs": [
    {
     "name": "stdout",
     "output_type": "stream",
     "text": [
      "[1, 2, 3, 99, 99, 3, 2, 1] \n",
      "\n",
      "[1 2 3] [99 99] [3 2 1]\n"
     ]
    }
   ],
   "source": [
    "\"\"\"\n",
    "Array Splitting\n",
    "\"\"\"\n",
    "\n",
    "arr = [1,2,3,99,99,3,2,1]\n",
    "print(arr,'\\n')\n",
    "\n",
    "arr_1, arr_2, arr_3 = np.split(arr,[3,5])\n",
    "print(arr_1, arr_2, arr_3)"
   ]
  }
 ],
 "metadata": {
  "kernelspec": {
   "display_name": "Python 3",
   "language": "python",
   "name": "python3"
  },
  "language_info": {
   "codemirror_mode": {
    "name": "ipython",
    "version": 3
   },
   "file_extension": ".py",
   "mimetype": "text/x-python",
   "name": "python",
   "nbconvert_exporter": "python",
   "pygments_lexer": "ipython3",
   "version": "3.8.8"
  }
 },
 "nbformat": 4,
 "nbformat_minor": 5
}
