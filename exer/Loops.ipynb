{
 "cells": [
  {
   "cell_type": "code",
   "execution_count": 2,
   "id": "dfcad5a3-0a40-47d5-a65e-9047998e94bf",
   "metadata": {},
   "outputs": [
    {
     "name": "stdout",
     "output_type": "stream",
     "text": [
      "1\n",
      "2\n",
      "3\n",
      "4\n",
      "5\n",
      "0\n",
      "1\n",
      "2\n",
      "3\n",
      "4\n",
      "5\n",
      "6\n",
      "7\n",
      "8\n",
      "9\n"
     ]
    }
   ],
   "source": [
    "\"\"\"\n",
    "for Loops\n",
    "\"\"\"\n",
    "nums = [1,2,3,4,5]\n",
    "\n",
    "for num in nums:\n",
    "    print(num)\n",
    "\n",
    "    \n",
    "# range()\n",
    "for i in range(10):\n",
    "    print(i)"
   ]
  },
  {
   "cell_type": "code",
   "execution_count": 4,
   "id": "715bfd88-b156-4a06-ba10-1e49dcaa3453",
   "metadata": {},
   "outputs": [
    {
     "name": "stdout",
     "output_type": "stream",
     "text": [
      "1\n",
      "2\n",
      "4\n",
      "5\n",
      "2\n"
     ]
    }
   ],
   "source": [
    "\"\"\"\n",
    "Continue Keyword\n",
    "\"\"\"\n",
    "\n",
    "nums = [1,2,-1,4,-5,5,2,-9]\n",
    "\n",
    "for num in nums:\n",
    "    #if num is negative, we skip it\n",
    "    if num<0:\n",
    "        continue\n",
    "    print(num)"
   ]
  },
  {
   "cell_type": "code",
   "execution_count": 7,
   "id": "43668f5a-dea7-4541-9dfd-7af22a2ac78a",
   "metadata": {},
   "outputs": [
    {
     "name": "stdout",
     "output_type": "stream",
     "text": [
      "stage1is complete.\n",
      "stage2is complete.\n",
      "stage3is complete.\n",
      "Game is Over...\n"
     ]
    }
   ],
   "source": [
    "\"\"\"\n",
    "break Keyword\n",
    "\"\"\"\n",
    "\n",
    "game_plays = ['stage1', 'stage2', 'stage3', 'gameover', 'stage4', 'stage5']\n",
    "\n",
    "for play in game_plays:\n",
    "    if play == 'gameover':\n",
    "        print(\"Game is Over...\")\n",
    "        break\n",
    "        \n",
    "    print(play + \"is complete.\")"
   ]
  },
  {
   "cell_type": "code",
   "execution_count": 9,
   "id": "6a1fd83e-edf8-41fb-b653-e9c9b0251096",
   "metadata": {},
   "outputs": [
    {
     "name": "stdout",
     "output_type": "stream",
     "text": [
      "[1, 2, 3, 4, 5, 6, 7, 8, 9, 10]\n"
     ]
    }
   ],
   "source": [
    "\"\"\"\n",
    "List Comprehension\n",
    "\"\"\"\n",
    "\n",
    "# for i in range(10):\n",
    "#     print(i)\n",
    "\n",
    "one_to_ten = [i+1 for i in range(10)]\n",
    "print(one_to_ten)"
   ]
  },
  {
   "cell_type": "code",
   "execution_count": 11,
   "id": "1489bd05-6108-4051-a371-50cd6caaf448",
   "metadata": {},
   "outputs": [
    {
     "name": "stdout",
     "output_type": "stream",
     "text": [
      "['KANE', 'Ndombélé']\n"
     ]
    }
   ],
   "source": [
    "\"\"\"\n",
    "List comprehension including conditions\n",
    "\"\"\"\n",
    "\n",
    "hotspurs = [['SON','A+'],['KANE','F'],['Ndombélé','F'],\n",
    "           ['DELE','B'],['LUCAS','B+'],['EMERSON','D']]\n",
    "\n",
    "poors = [player[0] for player in hotspurs if player[1]=='F']\n",
    "print(poors)"
   ]
  },
  {
   "cell_type": "code",
   "execution_count": 13,
   "id": "72ef4ac2-f136-4f86-8924-3a9e9d2adfb5",
   "metadata": {},
   "outputs": [
    {
     "name": "stdout",
     "output_type": "stream",
     "text": [
      "1 X 1 = 1\n",
      "1 X 2 = 2\n",
      "1 X 3 = 3\n",
      "1 X 4 = 4\n",
      "1 X 5 = 5\n",
      "1 X 6 = 6\n",
      "1 X 7 = 7\n",
      "1 X 8 = 8\n",
      "1 X 9 = 9\n",
      "2 X 1 = 2\n",
      "2 X 2 = 4\n",
      "2 X 3 = 6\n",
      "2 X 4 = 8\n",
      "2 X 5 = 10\n",
      "2 X 6 = 12\n",
      "2 X 7 = 14\n",
      "2 X 8 = 16\n",
      "2 X 9 = 18\n",
      "3 X 1 = 3\n",
      "3 X 2 = 6\n",
      "3 X 3 = 9\n",
      "3 X 4 = 12\n",
      "3 X 5 = 15\n",
      "3 X 6 = 18\n",
      "3 X 7 = 21\n",
      "3 X 8 = 24\n",
      "3 X 9 = 27\n",
      "4 X 1 = 4\n",
      "4 X 2 = 8\n",
      "4 X 3 = 12\n",
      "4 X 4 = 16\n",
      "4 X 5 = 20\n",
      "4 X 6 = 24\n",
      "4 X 7 = 28\n",
      "4 X 8 = 32\n",
      "4 X 9 = 36\n",
      "5 X 1 = 5\n",
      "5 X 2 = 10\n",
      "5 X 3 = 15\n",
      "5 X 4 = 20\n",
      "5 X 5 = 25\n",
      "5 X 6 = 30\n",
      "5 X 7 = 35\n",
      "5 X 8 = 40\n",
      "5 X 9 = 45\n",
      "6 X 1 = 6\n",
      "6 X 2 = 12\n",
      "6 X 3 = 18\n",
      "6 X 4 = 24\n",
      "6 X 5 = 30\n",
      "6 X 6 = 36\n",
      "6 X 7 = 42\n",
      "6 X 8 = 48\n",
      "6 X 9 = 54\n",
      "7 X 1 = 7\n",
      "7 X 2 = 14\n",
      "7 X 3 = 21\n",
      "7 X 4 = 28\n",
      "7 X 5 = 35\n",
      "7 X 6 = 42\n",
      "7 X 7 = 49\n",
      "7 X 8 = 56\n",
      "7 X 9 = 63\n",
      "8 X 1 = 8\n",
      "8 X 2 = 16\n",
      "8 X 3 = 24\n",
      "8 X 4 = 32\n",
      "8 X 5 = 40\n",
      "8 X 6 = 48\n",
      "8 X 7 = 56\n",
      "8 X 8 = 64\n",
      "8 X 9 = 72\n",
      "9 X 1 = 9\n",
      "9 X 2 = 18\n",
      "9 X 3 = 27\n",
      "9 X 4 = 36\n",
      "9 X 5 = 45\n",
      "9 X 6 = 54\n",
      "9 X 7 = 63\n",
      "9 X 8 = 72\n",
      "9 X 9 = 81\n"
     ]
    }
   ],
   "source": [
    "\"\"\"\n",
    "Nested Loops\n",
    "\"\"\"\n",
    "\n",
    "# 구구단 프로그램 (1~9)\n",
    "one_to_nine = [i+1 for i in range(9)]\n",
    "\n",
    "for i in one_to_nine:\n",
    "    for j in one_to_nine:\n",
    "        print(\"%d X %d = %d\"%(i,j,i*j))"
   ]
  },
  {
   "cell_type": "code",
   "execution_count": 14,
   "id": "663c30ca-e92b-422b-afbf-983c2f926a3b",
   "metadata": {},
   "outputs": [
    {
     "name": "stdout",
     "output_type": "stream",
     "text": [
      "Do Something\n",
      "Do Something\n",
      "Do Something\n",
      "Do Something\n"
     ]
    }
   ],
   "source": [
    "\"\"\"\n",
    "Infinite Loops\n",
    "\"\"\"\n",
    "\n",
    "x = 1\n",
    "y = 1\n",
    "\n",
    "while x<5:\n",
    "    print(\"Do Something\")\n",
    "    x += 1\n",
    "    #y += 1"
   ]
  }
 ],
 "metadata": {
  "kernelspec": {
   "display_name": "Python 3",
   "language": "python",
   "name": "python3"
  },
  "language_info": {
   "codemirror_mode": {
    "name": "ipython",
    "version": 3
   },
   "file_extension": ".py",
   "mimetype": "text/x-python",
   "name": "python",
   "nbconvert_exporter": "python",
   "pygments_lexer": "ipython3",
   "version": "3.8.8"
  }
 },
 "nbformat": 4,
 "nbformat_minor": 5
}
