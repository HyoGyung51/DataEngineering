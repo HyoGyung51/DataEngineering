{
 "cells": [
  {
   "cell_type": "code",
   "execution_count": 2,
   "id": "ce1db093-b617-4697-aaa9-a9602d0f06ee",
   "metadata": {},
   "outputs": [
    {
     "name": "stdout",
     "output_type": "stream",
     "text": [
      "2\n"
     ]
    }
   ],
   "source": [
    "\"\"\"\n",
    "Functions vs Method\n",
    "\"\"\"\n",
    "\n",
    "def my_function(x):\n",
    "    return x+1\n",
    "\n",
    "y=3\n",
    "my_function(y)\n",
    "\n",
    "# method : 클래스 내에 정의된 함수\n",
    "\n",
    "x = 1\n",
    "\n",
    "class my_class:\n",
    "    def my_method(self):\n",
    "        return x+1\n",
    "\n",
    "# class my_class:\n",
    "#     @staticmethod\n",
    "#     def my_method(x):\n",
    "#         return x+1\n",
    "    \n",
    "cls = my_class()\n",
    "print(cls.my_method())"
   ]
  },
  {
   "cell_type": "code",
   "execution_count": 4,
   "id": "477ebdd9-e859-493c-b47c-825ad0812430",
   "metadata": {},
   "outputs": [
    {
     "name": "stdout",
     "output_type": "stream",
     "text": [
      "2021is not a leap year\n"
     ]
    }
   ],
   "source": [
    "\"\"\"\n",
    "Return Keyword\n",
    "\"\"\"\n",
    "\n",
    "# leap year: 윤년(2월 29일 까지)\n",
    "\n",
    "def check_leap_year(year):\n",
    "    if year % 4 ==0:\n",
    "        return str(year)+ \"is a leap year\"\n",
    "    else:\n",
    "        return str(year)+\"is not a leap year\"\n",
    "    \n",
    "print(check_leap_year(2021)) # 출력 가능, 변수에 할당 가능"
   ]
  },
  {
   "cell_type": "code",
   "execution_count": 7,
   "id": "69191edf-73d4-4930-9320-c151fbfbbed3",
   "metadata": {},
   "outputs": [
    {
     "name": "stdout",
     "output_type": "stream",
     "text": [
      "9 16 25\n"
     ]
    }
   ],
   "source": [
    "\"\"\"\n",
    "Returning Multiple Values\n",
    "\"\"\"\n",
    "\n",
    "def square_point(x,y,z):\n",
    "    x_squared=x**2\n",
    "    y_squared=y**2\n",
    "    z_squared=z**2\n",
    "    return x_squared,y_squared,z_squared\n",
    "\n",
    "tree_squared, four_squared, five_squared = square_point(3,4,5)\n",
    "print(tree_squared, four_squared, five_squared)"
   ]
  },
  {
   "cell_type": "code",
   "execution_count": 9,
   "id": "cdf5c709-c79c-47ec-8f1c-a28ae91f0d93",
   "metadata": {},
   "outputs": [
    {
     "name": "stdout",
     "output_type": "stream",
     "text": [
      "Hello\n",
      "Hello\n"
     ]
    }
   ],
   "source": [
    "\"\"\"\n",
    "Global Variables\n",
    "\"\"\"\n",
    "\n",
    "a = \"Hello\"\n",
    "\n",
    "def prints_a():\n",
    "    a = \"Hello\"\n",
    "    print(a)\n",
    "    \n",
    "prints_a()\n",
    "print(a)\n",
    "\n",
    "\n",
    "# def prints_a():\n",
    "#     b = \"Hello\"\n",
    "#     print(b)\n",
    "    \n",
    "# prints_a()\n",
    "# print(b)\n",
    "# b는 지역변수인데 함수 바깥에서 사용하려고 하면 에러"
   ]
  },
  {
   "cell_type": "code",
   "execution_count": 11,
   "id": "a16e503e-8088-419d-9978-1f1e9d310798",
   "metadata": {},
   "outputs": [
    {
     "name": "stdout",
     "output_type": "stream",
     "text": [
      "2\n"
     ]
    }
   ],
   "source": [
    "\"\"\"\n",
    "Local Variables\n",
    "\"\"\"\n",
    "\n",
    "a = 5\n",
    "\n",
    "def f1():\n",
    "    a = 2\n",
    "    print(a) # 변수 이름이 같을 경우 지역변수 우선 참조\n",
    "    \n",
    "f1()\n"
   ]
  },
  {
   "cell_type": "code",
   "execution_count": 1,
   "id": "121fff8e-7b21-44d3-a10e-43c81c6e35af",
   "metadata": {},
   "outputs": [
    {
     "name": "stdout",
     "output_type": "stream",
     "text": [
      "5\n",
      "2\n"
     ]
    },
    {
     "ename": "NameError",
     "evalue": "name 'g' is not defined",
     "output_type": "error",
     "traceback": [
      "\u001b[1;31m---------------------------------------------------------------------------\u001b[0m",
      "\u001b[1;31mNameError\u001b[0m                                 Traceback (most recent call last)",
      "\u001b[1;32m<ipython-input-1-7e0bddd2c80f>\u001b[0m in \u001b[0;36m<module>\u001b[1;34m\u001b[0m\n\u001b[0;32m     13\u001b[0m \u001b[1;33m\u001b[0m\u001b[0m\n\u001b[0;32m     14\u001b[0m \u001b[0mf1\u001b[0m\u001b[1;33m(\u001b[0m\u001b[1;33m)\u001b[0m\u001b[1;33m\u001b[0m\u001b[1;33m\u001b[0m\u001b[0m\n\u001b[1;32m---> 15\u001b[1;33m \u001b[0mprint\u001b[0m\u001b[1;33m(\u001b[0m\u001b[0mg\u001b[0m\u001b[1;33m)\u001b[0m\u001b[1;33m\u001b[0m\u001b[1;33m\u001b[0m\u001b[0m\n\u001b[0m",
      "\u001b[1;31mNameError\u001b[0m: name 'g' is not defined"
     ]
    }
   ],
   "source": [
    " #지역변수가 없다면 전역변수\n",
    "a = 5\n",
    "\n",
    "def f1():\n",
    "    print(a) \n",
    "    \n",
    "f1()\n",
    "\n",
    "# 전역변수를 삭제하면?\n",
    "def f1():\n",
    "    g = 2\n",
    "    print(g) \n",
    "    \n",
    "f1()\n",
    "print(g)\n",
    "#오류"
   ]
  },
  {
   "cell_type": "code",
   "execution_count": 15,
   "id": "f363c010-8374-45cf-98aa-1d38f6f765c2",
   "metadata": {},
   "outputs": [
    {
     "name": "stdout",
     "output_type": "stream",
     "text": [
      "Height = 1\n",
      "Width = 2\n",
      "Depth = 3\n",
      "6\n",
      "Height = 2\n",
      "Width = 1\n",
      "Depth = 3\n",
      "6\n",
      "Height = 1\n",
      "Width = 2\n",
      "Depth = 3\n",
      "6\n"
     ]
    }
   ],
   "source": [
    "\"\"\"\n",
    "Keyword Arguments and Default Values\n",
    "\"\"\"\n",
    "\n",
    "def findvolume(height, width, depth):\n",
    "    print(\"Height = \" +str(height)) # str(): 어떤 값을 문자열 값으로 반환\n",
    "    print(\"Width = \" +str(width))\n",
    "    print(\"Depth = \" +str(depth))\n",
    "    return height*width*depth\n",
    "\n",
    "# 예제: 높이=1 넓이=2 깊이=3\n",
    "print(findvolume(1,2,3))\n",
    "print(findvolume(2,1,3)) # 에를 들어 실수로 순서를 잘못 입력했다?\n",
    "print(findvolume(width=2,height=1,depth=3)) # 순서가 바뀌어도 내가 원하는 결과 낼 수 있음\n",
    "print(findvolume(width=2,height=1)) # 인자 하나 덜 씀 -> 오류\n",
    "# 함수 정의 부분에서 미리 디폴트값 설정해주면 모자라게 써도 에러 발생하지 않아\n",
    "# 인자값을 안 넣을 경우 = 디폴트값, 새로 넣을 경우 = 새로운 인자값이 적용됨"
   ]
  }
 ],
 "metadata": {
  "kernelspec": {
   "display_name": "Python 3",
   "language": "python",
   "name": "python3"
  },
  "language_info": {
   "codemirror_mode": {
    "name": "ipython",
    "version": 3
   },
   "file_extension": ".py",
   "mimetype": "text/x-python",
   "name": "python",
   "nbconvert_exporter": "python",
   "pygments_lexer": "ipython3",
   "version": "3.8.8"
  }
 },
 "nbformat": 4,
 "nbformat_minor": 5
}
